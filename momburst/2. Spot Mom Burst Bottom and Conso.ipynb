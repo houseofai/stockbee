{
 "cells": [
  {
   "cell_type": "code",
   "id": "initial_id",
   "metadata": {
    "collapsed": true,
    "ExecuteTime": {
     "end_time": "2024-08-17T18:24:42.186835Z",
     "start_time": "2024-08-17T18:24:41.650485Z"
    }
   },
   "source": [
    "from tqdm import tqdm \n",
    "import pickle\n",
    "from joblib import Parallel, delayed\n",
    "\n",
    "# Ensure the plotting backend is set correctly\n",
    "%matplotlib inline"
   ],
   "outputs": [],
   "execution_count": 1
  },
  {
   "metadata": {
    "ExecuteTime": {
     "end_time": "2024-08-17T18:24:44.549519Z",
     "start_time": "2024-08-17T18:24:42.188335Z"
    }
   },
   "cell_type": "code",
   "source": [
    "backup_file = 'data/grouped_dfs.pkl'\n",
    "try:\n",
    "    with open(backup_file, 'rb') as f:\n",
    "        grouped_dfs = pickle.load(f)\n",
    "except FileNotFoundError:\n",
    "    print('Backup file not found. Rebuilding the data.')"
   ],
   "id": "3545bd318e3fae03",
   "outputs": [],
   "execution_count": 2
  },
  {
   "metadata": {},
   "cell_type": "markdown",
   "source": "# Spot MB",
   "id": "7ce3802f59ab3baa"
  },
  {
   "metadata": {},
   "cell_type": "markdown",
   "source": "### Bottom Bounce",
   "id": "810b8b4067bd1d27"
  },
  {
   "metadata": {},
   "cell_type": "code",
   "source": [
    "# RIOT from Dec 19 2022 to Jan 17 2023\n",
    "df_riot = grouped_dfs['RIOT']['2022-12-19':'2023-01-23']  # b/o on Jan 04, 23"
   ],
   "id": "955f378578eb43ee",
   "outputs": [],
   "execution_count": null
  },
  {
   "metadata": {},
   "cell_type": "code",
   "source": [
    "# INDI from Dec 19 2022 to Jan 23 2023\n",
    "df_indi = grouped_dfs['INDI']['2022-12-19':'2023-01-23']\n",
    "df_indi"
   ],
   "id": "78a033fe0050ddf7",
   "outputs": [],
   "execution_count": null
  },
  {
   "metadata": {},
   "cell_type": "code",
   "source": [
    "# PSFE from Dec 10 2022 to Jan 23 2023\n",
    "df_psfe = grouped_dfs['PSFE']['2022-12-10':'2023-01-23']"
   ],
   "id": "f43a117ec608056a",
   "outputs": [],
   "execution_count": null
  },
  {
   "metadata": {},
   "cell_type": "markdown",
   "source": [
    "### Consolidation Breakout\n",
    "- Consolidation from 1 month to a year\n",
    "- high relative volume (3x or more avg volume)\n",
    "- stock will close near high\n",
    "- "
   ],
   "id": "d9c9729b5388a094"
  },
  {
   "metadata": {},
   "cell_type": "code",
   "source": [
    "df_amkr = grouped_dfs['AMKR']['2022-12-21':'2023-01-23']\n",
    "df_ever = grouped_dfs['EVER']['2022-12-01':'2023-01-10']"
   ],
   "id": "1f9f750895392bcf",
   "outputs": [],
   "execution_count": null
  },
  {
   "metadata": {},
   "cell_type": "markdown",
   "source": [
    "### Continuation Setup\n",
    "- Focus on the 2nd or 3rd breakout\n",
    "- Stock close near the high\n",
    "- Day before the breakout, negative or small up day\n",
    "- 3 to 10 days\n",
    "- Not Up 2 days in the row\n",
    "- Highest probability of success\n",
    "- 2lynch"
   ],
   "id": "3f8a2dbc259c2992"
  },
  {
   "metadata": {
    "ExecuteTime": {
     "end_time": "2024-08-17T18:25:43.067363Z",
     "start_time": "2024-08-17T18:25:43.055855Z"
    }
   },
   "cell_type": "code",
   "source": [
    "df_wwww = grouped_dfs['WWW']['2022-12-03':'2023-02-21']\n",
    "df_wwww.to_csv('data/wwww.csv')"
   ],
   "id": "258b79d4732b7dca",
   "outputs": [],
   "execution_count": 4
  },
  {
   "metadata": {},
   "cell_type": "code",
   "source": [
    "df_amgn = grouped_dfs['AMGN']['2022-10-17':'2023-11-14']\n",
    "df_tree = grouped_dfs['TREE']['2022-12-12':'2023-02-27']\n",
    "df_fslr = grouped_dfs['FSLR']['2022-10-03':'2023-01-01']\n"
   ],
   "id": "bf729dbad3d6e302",
   "outputs": [],
   "execution_count": null
  },
  {
   "metadata": {},
   "cell_type": "markdown",
   "source": "#### 2 Lynch",
   "id": "109f89421afe2cf"
  },
  {
   "metadata": {},
   "cell_type": "code",
   "source": [
    "mb_tests = {\n",
    "    'RIOT': df_riot,\n",
    "    'INDI': df_indi,\n",
    "    'PSFE': df_psfe,\n",
    "    'AMKR': df_amkr,\n",
    "    'EVER': df_ever,\n",
    "    'AMGN': df_amgn,\n",
    "    'TREE': df_tree,\n",
    "    'FSLR': df_fslr\n",
    "}"
   ],
   "id": "2852b16258c8e45d",
   "outputs": [],
   "execution_count": null
  },
  {
   "metadata": {},
   "cell_type": "code",
   "source": [
    "import numpy as np\n",
    "\n",
    "# Adjusted threshold based on observed range conditions\n",
    "consolidation_period = 5  # Number of days in the narrow range\n",
    "breakout_threshold = 0.2  # 20% breakout threshold, adjusted for better detection\n",
    "volume_multiplier = 1.5  # 50% increase in volume\n",
    "\n",
    "def detect_momentum_burst(df):\n",
    "    bursts = []\n",
    "    \n",
    "    for i in range(consolidation_period, len(df)):\n",
    "        # Identify consolidation (narrow range, low volume)\n",
    "        recent_data = df.iloc[i-consolidation_period:i]\n",
    "        range_condition = recent_data['High'].max() - recent_data['Low'].min()\n",
    "        volume_condition = recent_data['Volume'].mean()\n",
    "\n",
    "        if range_condition < recent_data['Close'].mean() * breakout_threshold:\n",
    "            # Identify breakout (price increase, volume surge)\n",
    "            if df['Close'].iloc[i] > recent_data['High'].max() and df['Volume'].iloc[i] > volume_condition * volume_multiplier:\n",
    "                # Calculate 3-day and 5-day percentage gains\n",
    "                if i + 3 < len(df):\n",
    "                    gain_3d = (df['Close'].iloc[i + 3] - df['Close'].iloc[i]) / df['Close'].iloc[i] * 100\n",
    "                else:\n",
    "                    gain_3d = np.nan  # Not enough data to calculate 3-day gain\n",
    "\n",
    "                if i + 5 < len(df):\n",
    "                    gain_5d = (df['Close'].iloc[i + 5] - df['Close'].iloc[i]) / df['Close'].iloc[i] * 100\n",
    "                else:\n",
    "                    gain_5d = np.nan  # Not enough data to calculate 5-day gain\n",
    "\n",
    "                burst = {\n",
    "                    'date': df.index[i],\n",
    "                    'close': df['Close'].iloc[i],\n",
    "                    'high': df['High'].iloc[i],\n",
    "                    'low': df['Low'].iloc[i],\n",
    "                    'open': df['Open'].iloc[i],\n",
    "                    'volume': df['Volume'].iloc[i],\n",
    "                    'breakout_percentage': (df['Close'].iloc[i] - df['Close'].iloc[i-1]) / df['Close'].iloc[i-1] * 100,\n",
    "                    'gain_3d': gain_3d,\n",
    "                    'gain_5d': gain_5d\n",
    "                }\n",
    "                bursts.append(burst)\n",
    "    \n",
    "    return bursts\n",
    "\n",
    "\n",
    "# Parallel processing function with progress bar\n",
    "def process_symbol(symbol, df):\n",
    "    return symbol, detect_momentum_burst(df)\n",
    "\n",
    "# Apply the function to all dataframes in parallel with tqdm progress bar\n",
    "all_bursts = dict(Parallel(n_jobs=-1)(delayed(process_symbol)(symbol, df) for symbol, df in tqdm(mb_tests.items(), total=len(mb_tests))))\n",
    "all_bursts = {symbol: bursts for symbol, bursts in all_bursts.items() if bursts}\n",
    "len(all_bursts)"
   ],
   "id": "fc6fa13d61a39d6e",
   "outputs": [],
   "execution_count": null
  },
  {
   "metadata": {},
   "cell_type": "code",
   "source": "",
   "id": "fea415af3571e1ed",
   "outputs": [],
   "execution_count": null
  },
  {
   "metadata": {},
   "cell_type": "code",
   "source": "all_bursts",
   "id": "1dba018a6731593e",
   "outputs": [],
   "execution_count": null
  },
  {
   "metadata": {},
   "cell_type": "code",
   "source": "",
   "id": "c95c5469711b1708",
   "outputs": [],
   "execution_count": null
  }
 ],
 "metadata": {
  "kernelspec": {
   "display_name": "Python 3",
   "language": "python",
   "name": "python3"
  },
  "language_info": {
   "codemirror_mode": {
    "name": "ipython",
    "version": 2
   },
   "file_extension": ".py",
   "mimetype": "text/x-python",
   "name": "python",
   "nbconvert_exporter": "python",
   "pygments_lexer": "ipython2",
   "version": "2.7.6"
  }
 },
 "nbformat": 4,
 "nbformat_minor": 5
}
