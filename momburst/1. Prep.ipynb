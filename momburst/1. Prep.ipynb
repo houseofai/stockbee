{
 "cells": [
  {
   "cell_type": "code",
   "id": "initial_id",
   "metadata": {
    "collapsed": true
   },
   "source": [
    "from tqdm import tqdm, trange\n",
    "import yfinance as yf\n",
    "import pandas as pd\n",
    "import pickle"
   ],
   "outputs": [],
   "execution_count": null
  },
  {
   "metadata": {},
   "cell_type": "code",
   "source": [
    "# Load D:\\financial-data\\marketsmith\\all\\2024-08-16.parquet\n",
    "df = pd.read_parquet('D:/financial-data/marketsmith/all/2024-08-16.parquet')\n",
    "df = df[df['Current Price'] > 1]\n",
    "symbols = df['Symbol'].to_list()\n",
    "len(symbols)"
   ],
   "id": "3545bd318e3fae03",
   "outputs": [],
   "execution_count": null
  },
  {
   "metadata": {},
   "cell_type": "code",
   "source": [
    "def download_data(symbols_):\n",
    "    # iterate over symbols by 1000\n",
    "    df_yahoos = []\n",
    "    for i in trange(0, len(symbols_), 1000):\n",
    "        df_yahoo = yf.download(symbols_[i:i+1000])\n",
    "        df_yahoos.append(df_yahoo)\n",
    "    \n",
    "    df_yahoos = pd.concat(df_yahoos)\n",
    "    \n",
    "    # Extract unique second elements from the column names\n",
    "    unique_symbols = set(col[1] for col in df_yahoos.columns)\n",
    "    \n",
    "    # Create a dictionary to store DataFrames for each unique second element\n",
    "    grouped_dfs = {}\n",
    "    \n",
    "    # Iterate over each unique second element\n",
    "    for symbol in tqdm(unique_symbols):\n",
    "        columns_for_symbol = [col for col in df_yahoos.columns if col[1] == symbol]\n",
    "        df_temp = df_yahoos[columns_for_symbol].copy()\n",
    "        df_temp.columns = df_temp.columns.droplevel(1)\n",
    "        df_temp = df_temp[['Close', 'High', 'Low', 'Open', 'Volume']]\n",
    "        df_temp = df_temp.dropna(how='all')\n",
    "        grouped_dfs[symbol] = df_temp\n",
    "        \n",
    "    return grouped_dfs"
   ],
   "id": "57b6f6279c955533",
   "outputs": [],
   "execution_count": null
  },
  {
   "metadata": {},
   "cell_type": "code",
   "source": "grouped_dfs = download_data(symbols)",
   "id": "54d1fdaf3c31d863",
   "outputs": [],
   "execution_count": null
  },
  {
   "metadata": {},
   "cell_type": "code",
   "source": [
    "with open('data/grouped_dfs.pkl', 'wb') as f:\n",
    "    pickle.dump(grouped_dfs, f)"
   ],
   "id": "6172a99a9bba93c3",
   "outputs": [],
   "execution_count": null
  },
  {
   "metadata": {},
   "cell_type": "code",
   "source": "",
   "id": "fea415af3571e1ed",
   "outputs": [],
   "execution_count": null
  }
 ],
 "metadata": {
  "kernelspec": {
   "display_name": "Python 3",
   "language": "python",
   "name": "python3"
  },
  "language_info": {
   "codemirror_mode": {
    "name": "ipython",
    "version": 2
   },
   "file_extension": ".py",
   "mimetype": "text/x-python",
   "name": "python",
   "nbconvert_exporter": "python",
   "pygments_lexer": "ipython2",
   "version": "2.7.6"
  }
 },
 "nbformat": 4,
 "nbformat_minor": 5
}
