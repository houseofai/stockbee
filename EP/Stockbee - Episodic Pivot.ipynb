{
 "cells": [
  {
   "cell_type": "code",
   "execution_count": 1,
   "id": "initial_id",
   "metadata": {
    "collapsed": true,
    "ExecuteTime": {
     "end_time": "2023-12-01T15:57:40.369161300Z",
     "start_time": "2023-12-01T15:57:38.374432300Z"
    }
   },
   "outputs": [
    {
     "name": "stderr",
     "output_type": "stream",
     "text": [
      "C:\\Users\\otrem\\miniconda3\\envs\\trading\\Lib\\site-packages\\backtesting\\_plotting.py:50: UserWarning: Jupyter Notebook detected. Setting Bokeh output to notebook. This may not work in Jupyter clients without JavaScript support (e.g. PyCharm, Spyder IDE). Reset with `backtesting.set_bokeh_output(notebook=False)`.\n",
      "  warnings.warn('Jupyter Notebook detected. '\n"
     ]
    },
    {
     "data": {
      "text/html": "    <style>\n        .bk-notebook-logo {\n            display: block;\n            width: 20px;\n            height: 20px;\n            background-image: url(data:image/png;base64,iVBORw0KGgoAAAANSUhEUgAAABQAAAAUCAYAAACNiR0NAAAABHNCSVQICAgIfAhkiAAAAAlwSFlzAAALEgAACxIB0t1+/AAAABx0RVh0U29mdHdhcmUAQWRvYmUgRmlyZXdvcmtzIENTNui8sowAAAOkSURBVDiNjZRtaJVlGMd/1/08zzln5zjP1LWcU9N0NkN8m2CYjpgQYQXqSs0I84OLIC0hkEKoPtiH3gmKoiJDU7QpLgoLjLIQCpEsNJ1vqUOdO7ppbuec5+V+rj4ctwzd8IIbbi6u+8f1539dt3A78eXC7QizUF7gyV1fD1Yqg4JWz84yffhm0qkFqBogB9rM8tZdtwVsPUhWhGcFJngGeWrPzHm5oaMmkfEg1usvLFyc8jLRqDOMru7AyC8saQr7GG7f5fvDeH7Ej8CM66nIF+8yngt6HWaKh7k49Soy9nXurCi1o3qUbS3zWfrYeQDTB/Qj6kX6Ybhw4B+bOYoLKCC9H3Nu/leUTZ1JdRWkkn2ldcCamzrcf47KKXdAJllSlxAOkRgyHsGC/zRday5Qld9DyoM4/q/rUoy/CXh3jzOu3bHUVZeU+DEn8FInkPBFlu3+nW3Nw0mk6vCDiWg8CeJaxEwuHS3+z5RgY+YBR6V1Z1nxSOfoaPa4LASWxxdNp+VWTk7+4vzaou8v8PN+xo+KY2xsw6une2frhw05CTYOmQvsEhjhWjn0bmXPjpE1+kplmmkP3suftwTubK9Vq22qKmrBhpY4jvd5afdRA3wGjFAgcnTK2s4hY0/GPNIb0nErGMCRxWOOX64Z8RAC4oCXdklmEvcL8o0BfkNK4lUg9HTl+oPlQxdNo3Mg4Nv175e/1LDGzZen30MEjRUtmXSfiTVu1kK8W4txyV6BMKlbgk3lMwYCiusNy9fVfvvwMxv8Ynl6vxoByANLTWplvuj/nF9m2+PDtt1eiHPBr1oIfhCChQMBw6Aw0UulqTKZdfVvfG7VcfIqLG9bcldL/+pdWTLxLUy8Qq38heUIjh4XlzZxzQm19lLFlr8vdQ97rjZVOLf8nclzckbcD4wxXMidpX30sFd37Fv/GtwwhzhxGVAprjbg0gCAEeIgwCZyTV2Z1REEW8O4py0wsjeloKoMr6iCY6dP92H6Vw/oTyICIthibxjm/DfN9lVz8IqtqKYLUXfoKVMVQVVJOElGjrnnUt9T9wbgp8AyYKaGlqingHZU/uG2NTZSVqwHQTWkx9hxjkpWDaCg6Ckj5qebgBVbT3V3NNXMSiWSDdGV3hrtzla7J+duwPOToIg42ChPQOQjspnSlp1V+Gjdged7+8UN5CRAV7a5EdFNwCjEaBR27b3W890TE7g24NAP/mMDXRWrGoFPQI9ls/MWO2dWFAar/xcOIImbbpA3zgAAAABJRU5ErkJggg==);\n        }\n    </style>\n    <div>\n        <a href=\"https://bokeh.org\" target=\"_blank\" class=\"bk-notebook-logo\"></a>\n        <span id=\"f0d5ddf2-0fb8-4485-b1a9-4ec2dc50f335\">Loading BokehJS ...</span>\n    </div>\n"
     },
     "metadata": {},
     "output_type": "display_data"
    },
    {
     "data": {
      "application/javascript": "(function(root) {\n  function now() {\n    return new Date();\n  }\n\n  const force = true;\n\n  if (typeof root._bokeh_onload_callbacks === \"undefined\" || force === true) {\n    root._bokeh_onload_callbacks = [];\n    root._bokeh_is_loading = undefined;\n  }\n\nconst JS_MIME_TYPE = 'application/javascript';\n  const HTML_MIME_TYPE = 'text/html';\n  const EXEC_MIME_TYPE = 'application/vnd.bokehjs_exec.v0+json';\n  const CLASS_NAME = 'output_bokeh rendered_html';\n\n  /**\n   * Render data to the DOM node\n   */\n  function render(props, node) {\n    const script = document.createElement(\"script\");\n    node.appendChild(script);\n  }\n\n  /**\n   * Handle when an output is cleared or removed\n   */\n  function handleClearOutput(event, handle) {\n    function drop(id) {\n      const view = Bokeh.index.get_by_id(id)\n      if (view != null) {\n        view.model.document.clear()\n        Bokeh.index.delete(view)\n      }\n    }\n\n    const cell = handle.cell;\n\n    const id = cell.output_area._bokeh_element_id;\n    const server_id = cell.output_area._bokeh_server_id;\n\n    // Clean up Bokeh references\n    if (id != null) {\n      drop(id)\n    }\n\n    if (server_id !== undefined) {\n      // Clean up Bokeh references\n      const cmd_clean = \"from bokeh.io.state import curstate; print(curstate().uuid_to_server['\" + server_id + \"'].get_sessions()[0].document.roots[0]._id)\";\n      cell.notebook.kernel.execute(cmd_clean, {\n        iopub: {\n          output: function(msg) {\n            const id = msg.content.text.trim()\n            drop(id)\n          }\n        }\n      });\n      // Destroy server and session\n      const cmd_destroy = \"import bokeh.io.notebook as ion; ion.destroy_server('\" + server_id + \"')\";\n      cell.notebook.kernel.execute(cmd_destroy);\n    }\n  }\n\n  /**\n   * Handle when a new output is added\n   */\n  function handleAddOutput(event, handle) {\n    const output_area = handle.output_area;\n    const output = handle.output;\n\n    // limit handleAddOutput to display_data with EXEC_MIME_TYPE content only\n    if ((output.output_type != \"display_data\") || (!Object.prototype.hasOwnProperty.call(output.data, EXEC_MIME_TYPE))) {\n      return\n    }\n\n    const toinsert = output_area.element.find(\".\" + CLASS_NAME.split(' ')[0]);\n\n    if (output.metadata[EXEC_MIME_TYPE][\"id\"] !== undefined) {\n      toinsert[toinsert.length - 1].firstChild.textContent = output.data[JS_MIME_TYPE];\n      // store reference to embed id on output_area\n      output_area._bokeh_element_id = output.metadata[EXEC_MIME_TYPE][\"id\"];\n    }\n    if (output.metadata[EXEC_MIME_TYPE][\"server_id\"] !== undefined) {\n      const bk_div = document.createElement(\"div\");\n      bk_div.innerHTML = output.data[HTML_MIME_TYPE];\n      const script_attrs = bk_div.children[0].attributes;\n      for (let i = 0; i < script_attrs.length; i++) {\n        toinsert[toinsert.length - 1].firstChild.setAttribute(script_attrs[i].name, script_attrs[i].value);\n        toinsert[toinsert.length - 1].firstChild.textContent = bk_div.children[0].textContent\n      }\n      // store reference to server id on output_area\n      output_area._bokeh_server_id = output.metadata[EXEC_MIME_TYPE][\"server_id\"];\n    }\n  }\n\n  function register_renderer(events, OutputArea) {\n\n    function append_mime(data, metadata, element) {\n      // create a DOM node to render to\n      const toinsert = this.create_output_subarea(\n        metadata,\n        CLASS_NAME,\n        EXEC_MIME_TYPE\n      );\n      this.keyboard_manager.register_events(toinsert);\n      // Render to node\n      const props = {data: data, metadata: metadata[EXEC_MIME_TYPE]};\n      render(props, toinsert[toinsert.length - 1]);\n      element.append(toinsert);\n      return toinsert\n    }\n\n    /* Handle when an output is cleared or removed */\n    events.on('clear_output.CodeCell', handleClearOutput);\n    events.on('delete.Cell', handleClearOutput);\n\n    /* Handle when a new output is added */\n    events.on('output_added.OutputArea', handleAddOutput);\n\n    /**\n     * Register the mime type and append_mime function with output_area\n     */\n    OutputArea.prototype.register_mime_type(EXEC_MIME_TYPE, append_mime, {\n      /* Is output safe? */\n      safe: true,\n      /* Index of renderer in `output_area.display_order` */\n      index: 0\n    });\n  }\n\n  // register the mime type if in Jupyter Notebook environment and previously unregistered\n  if (root.Jupyter !== undefined) {\n    const events = require('base/js/events');\n    const OutputArea = require('notebook/js/outputarea').OutputArea;\n\n    if (OutputArea.prototype.mime_types().indexOf(EXEC_MIME_TYPE) == -1) {\n      register_renderer(events, OutputArea);\n    }\n  }\n  if (typeof (root._bokeh_timeout) === \"undefined\" || force === true) {\n    root._bokeh_timeout = Date.now() + 5000;\n    root._bokeh_failed_load = false;\n  }\n\n  const NB_LOAD_WARNING = {'data': {'text/html':\n     \"<div style='background-color: #fdd'>\\n\"+\n     \"<p>\\n\"+\n     \"BokehJS does not appear to have successfully loaded. If loading BokehJS from CDN, this \\n\"+\n     \"may be due to a slow or bad network connection. Possible fixes:\\n\"+\n     \"</p>\\n\"+\n     \"<ul>\\n\"+\n     \"<li>re-rerun `output_notebook()` to attempt to load from CDN again, or</li>\\n\"+\n     \"<li>use INLINE resources instead, as so:</li>\\n\"+\n     \"</ul>\\n\"+\n     \"<code>\\n\"+\n     \"from bokeh.resources import INLINE\\n\"+\n     \"output_notebook(resources=INLINE)\\n\"+\n     \"</code>\\n\"+\n     \"</div>\"}};\n\n  function display_loaded() {\n    const el = document.getElementById(\"f0d5ddf2-0fb8-4485-b1a9-4ec2dc50f335\");\n    if (el != null) {\n      el.textContent = \"BokehJS is loading...\";\n    }\n    if (root.Bokeh !== undefined) {\n      if (el != null) {\n        el.textContent = \"BokehJS \" + root.Bokeh.version + \" successfully loaded.\";\n      }\n    } else if (Date.now() < root._bokeh_timeout) {\n      setTimeout(display_loaded, 100)\n    }\n  }\n\n  function run_callbacks() {\n    try {\n      root._bokeh_onload_callbacks.forEach(function(callback) {\n        if (callback != null)\n          callback();\n      });\n    } finally {\n      delete root._bokeh_onload_callbacks\n    }\n    console.debug(\"Bokeh: all callbacks have finished\");\n  }\n\n  function load_libs(css_urls, js_urls, callback) {\n    if (css_urls == null) css_urls = [];\n    if (js_urls == null) js_urls = [];\n\n    root._bokeh_onload_callbacks.push(callback);\n    if (root._bokeh_is_loading > 0) {\n      console.debug(\"Bokeh: BokehJS is being loaded, scheduling callback at\", now());\n      return null;\n    }\n    if (js_urls == null || js_urls.length === 0) {\n      run_callbacks();\n      return null;\n    }\n    console.debug(\"Bokeh: BokehJS not loaded, scheduling load and callback at\", now());\n    root._bokeh_is_loading = css_urls.length + js_urls.length;\n\n    function on_load() {\n      root._bokeh_is_loading--;\n      if (root._bokeh_is_loading === 0) {\n        console.debug(\"Bokeh: all BokehJS libraries/stylesheets loaded\");\n        run_callbacks()\n      }\n    }\n\n    function on_error(url) {\n      console.error(\"failed to load \" + url);\n    }\n\n    for (let i = 0; i < css_urls.length; i++) {\n      const url = css_urls[i];\n      const element = document.createElement(\"link\");\n      element.onload = on_load;\n      element.onerror = on_error.bind(null, url);\n      element.rel = \"stylesheet\";\n      element.type = \"text/css\";\n      element.href = url;\n      console.debug(\"Bokeh: injecting link tag for BokehJS stylesheet: \", url);\n      document.body.appendChild(element);\n    }\n\n    for (let i = 0; i < js_urls.length; i++) {\n      const url = js_urls[i];\n      const element = document.createElement('script');\n      element.onload = on_load;\n      element.onerror = on_error.bind(null, url);\n      element.async = false;\n      element.src = url;\n      console.debug(\"Bokeh: injecting script tag for BokehJS library: \", url);\n      document.head.appendChild(element);\n    }\n  };\n\n  function inject_raw_css(css) {\n    const element = document.createElement(\"style\");\n    element.appendChild(document.createTextNode(css));\n    document.body.appendChild(element);\n  }\n\n  const js_urls = [\"https://cdn.bokeh.org/bokeh/release/bokeh-3.3.1.min.js\", \"https://cdn.bokeh.org/bokeh/release/bokeh-gl-3.3.1.min.js\", \"https://cdn.bokeh.org/bokeh/release/bokeh-widgets-3.3.1.min.js\", \"https://cdn.bokeh.org/bokeh/release/bokeh-tables-3.3.1.min.js\", \"https://cdn.bokeh.org/bokeh/release/bokeh-mathjax-3.3.1.min.js\"];\n  const css_urls = [];\n\n  const inline_js = [    function(Bokeh) {\n      Bokeh.set_log_level(\"info\");\n    },\nfunction(Bokeh) {\n    }\n  ];\n\n  function run_inline_js() {\n    if (root.Bokeh !== undefined || force === true) {\n          for (let i = 0; i < inline_js.length; i++) {\n      inline_js[i].call(root, root.Bokeh);\n    }\nif (force === true) {\n        display_loaded();\n      }} else if (Date.now() < root._bokeh_timeout) {\n      setTimeout(run_inline_js, 100);\n    } else if (!root._bokeh_failed_load) {\n      console.log(\"Bokeh: BokehJS failed to load within specified timeout.\");\n      root._bokeh_failed_load = true;\n    } else if (force !== true) {\n      const cell = $(document.getElementById(\"f0d5ddf2-0fb8-4485-b1a9-4ec2dc50f335\")).parents('.cell').data().cell;\n      cell.output_area.append_execute_result(NB_LOAD_WARNING)\n    }\n  }\n\n  if (root._bokeh_is_loading === 0) {\n    console.debug(\"Bokeh: BokehJS loaded, going straight to plotting\");\n    run_inline_js();\n  } else {\n    load_libs(css_urls, js_urls, function() {\n      console.debug(\"Bokeh: BokehJS plotting callback run at\", now());\n      run_inline_js();\n    });\n  }\n}(window));",
      "application/vnd.bokehjs_load.v0+json": "(function(root) {\n  function now() {\n    return new Date();\n  }\n\n  const force = true;\n\n  if (typeof root._bokeh_onload_callbacks === \"undefined\" || force === true) {\n    root._bokeh_onload_callbacks = [];\n    root._bokeh_is_loading = undefined;\n  }\n\n\n  if (typeof (root._bokeh_timeout) === \"undefined\" || force === true) {\n    root._bokeh_timeout = Date.now() + 5000;\n    root._bokeh_failed_load = false;\n  }\n\n  const NB_LOAD_WARNING = {'data': {'text/html':\n     \"<div style='background-color: #fdd'>\\n\"+\n     \"<p>\\n\"+\n     \"BokehJS does not appear to have successfully loaded. If loading BokehJS from CDN, this \\n\"+\n     \"may be due to a slow or bad network connection. Possible fixes:\\n\"+\n     \"</p>\\n\"+\n     \"<ul>\\n\"+\n     \"<li>re-rerun `output_notebook()` to attempt to load from CDN again, or</li>\\n\"+\n     \"<li>use INLINE resources instead, as so:</li>\\n\"+\n     \"</ul>\\n\"+\n     \"<code>\\n\"+\n     \"from bokeh.resources import INLINE\\n\"+\n     \"output_notebook(resources=INLINE)\\n\"+\n     \"</code>\\n\"+\n     \"</div>\"}};\n\n  function display_loaded() {\n    const el = document.getElementById(\"f0d5ddf2-0fb8-4485-b1a9-4ec2dc50f335\");\n    if (el != null) {\n      el.textContent = \"BokehJS is loading...\";\n    }\n    if (root.Bokeh !== undefined) {\n      if (el != null) {\n        el.textContent = \"BokehJS \" + root.Bokeh.version + \" successfully loaded.\";\n      }\n    } else if (Date.now() < root._bokeh_timeout) {\n      setTimeout(display_loaded, 100)\n    }\n  }\n\n  function run_callbacks() {\n    try {\n      root._bokeh_onload_callbacks.forEach(function(callback) {\n        if (callback != null)\n          callback();\n      });\n    } finally {\n      delete root._bokeh_onload_callbacks\n    }\n    console.debug(\"Bokeh: all callbacks have finished\");\n  }\n\n  function load_libs(css_urls, js_urls, callback) {\n    if (css_urls == null) css_urls = [];\n    if (js_urls == null) js_urls = [];\n\n    root._bokeh_onload_callbacks.push(callback);\n    if (root._bokeh_is_loading > 0) {\n      console.debug(\"Bokeh: BokehJS is being loaded, scheduling callback at\", now());\n      return null;\n    }\n    if (js_urls == null || js_urls.length === 0) {\n      run_callbacks();\n      return null;\n    }\n    console.debug(\"Bokeh: BokehJS not loaded, scheduling load and callback at\", now());\n    root._bokeh_is_loading = css_urls.length + js_urls.length;\n\n    function on_load() {\n      root._bokeh_is_loading--;\n      if (root._bokeh_is_loading === 0) {\n        console.debug(\"Bokeh: all BokehJS libraries/stylesheets loaded\");\n        run_callbacks()\n      }\n    }\n\n    function on_error(url) {\n      console.error(\"failed to load \" + url);\n    }\n\n    for (let i = 0; i < css_urls.length; i++) {\n      const url = css_urls[i];\n      const element = document.createElement(\"link\");\n      element.onload = on_load;\n      element.onerror = on_error.bind(null, url);\n      element.rel = \"stylesheet\";\n      element.type = \"text/css\";\n      element.href = url;\n      console.debug(\"Bokeh: injecting link tag for BokehJS stylesheet: \", url);\n      document.body.appendChild(element);\n    }\n\n    for (let i = 0; i < js_urls.length; i++) {\n      const url = js_urls[i];\n      const element = document.createElement('script');\n      element.onload = on_load;\n      element.onerror = on_error.bind(null, url);\n      element.async = false;\n      element.src = url;\n      console.debug(\"Bokeh: injecting script tag for BokehJS library: \", url);\n      document.head.appendChild(element);\n    }\n  };\n\n  function inject_raw_css(css) {\n    const element = document.createElement(\"style\");\n    element.appendChild(document.createTextNode(css));\n    document.body.appendChild(element);\n  }\n\n  const js_urls = [\"https://cdn.bokeh.org/bokeh/release/bokeh-3.3.1.min.js\", \"https://cdn.bokeh.org/bokeh/release/bokeh-gl-3.3.1.min.js\", \"https://cdn.bokeh.org/bokeh/release/bokeh-widgets-3.3.1.min.js\", \"https://cdn.bokeh.org/bokeh/release/bokeh-tables-3.3.1.min.js\", \"https://cdn.bokeh.org/bokeh/release/bokeh-mathjax-3.3.1.min.js\"];\n  const css_urls = [];\n\n  const inline_js = [    function(Bokeh) {\n      Bokeh.set_log_level(\"info\");\n    },\nfunction(Bokeh) {\n    }\n  ];\n\n  function run_inline_js() {\n    if (root.Bokeh !== undefined || force === true) {\n          for (let i = 0; i < inline_js.length; i++) {\n      inline_js[i].call(root, root.Bokeh);\n    }\nif (force === true) {\n        display_loaded();\n      }} else if (Date.now() < root._bokeh_timeout) {\n      setTimeout(run_inline_js, 100);\n    } else if (!root._bokeh_failed_load) {\n      console.log(\"Bokeh: BokehJS failed to load within specified timeout.\");\n      root._bokeh_failed_load = true;\n    } else if (force !== true) {\n      const cell = $(document.getElementById(\"f0d5ddf2-0fb8-4485-b1a9-4ec2dc50f335\")).parents('.cell').data().cell;\n      cell.output_area.append_execute_result(NB_LOAD_WARNING)\n    }\n  }\n\n  if (root._bokeh_is_loading === 0) {\n    console.debug(\"Bokeh: BokehJS loaded, going straight to plotting\");\n    run_inline_js();\n  } else {\n    load_libs(css_urls, js_urls, function() {\n      console.debug(\"Bokeh: BokehJS plotting callback run at\", now());\n      run_inline_js();\n    });\n  }\n}(window));"
     },
     "metadata": {},
     "output_type": "display_data"
    },
    {
     "data": {
      "text/plain": "<IPython.core.display.HTML object>",
      "text/html": "<style>.container { width:100% !important; }</style>"
     },
     "metadata": {},
     "output_type": "display_data"
    }
   ],
   "source": [
    "from strategies.stockbee.EP.scripts.data import process\n",
    "\n",
    "from tqdm import tqdm\n",
    "from strategies.pattern_search.dataprep import get_symbols\n",
    "from IPython.display import display, HTML\n",
    "display(HTML(\"<style>.container { width:100% !important; }</style>\"))\n",
    "import pandas as pd\n",
    "import numpy as np\n",
    "from sklearn.metrics import r2_score, mean_squared_error\n",
    "from sklearn.linear_model import LinearRegression\n",
    "from sklearn.model_selection import train_test_split\n",
    "\n",
    "\n",
    "%matplotlib inline\n",
    "%load_ext autoreload\n",
    "%autoreload 2\n",
    "%load_ext line_profiler"
   ]
  },
  {
   "cell_type": "code",
   "execution_count": null,
   "outputs": [],
   "source": [
    "start_ = '2022-01-01'\n",
    "now = pd.Timestamp.now()\n",
    "years = (now - pd.Timestamp(start_)).days / 365\n",
    "\n",
    "symbols = get_symbols(min_data=years * 150)\n",
    "symbols"
   ],
   "metadata": {
    "collapsed": false
   },
   "id": "76ae3aeb84f09a38"
  },
  {
   "cell_type": "code",
   "execution_count": 3,
   "outputs": [
    {
     "name": "stderr",
     "output_type": "stream",
     "text": [
      "Processing A:   0%|          | 0/9121 [00:00<?, ?it/s]"
     ]
    },
    {
     "name": "stdout",
     "output_type": "stream",
     "text": [
      "Removing 17312 null values\n"
     ]
    },
    {
     "name": "stderr",
     "output_type": "stream",
     "text": [
      "C:\\Users\\otrem\\PycharmProjects\\trading\\lib\\y\\__init__.py:24: DtypeWarning: Columns (43,44) have mixed types. Specify dtype option on import or set low_memory=False.\n",
      "  df = pd.read_csv(latest_file, index_col=0, parse_dates=True, keep_default_na=False)\n",
      "Processing AUGX:   7%|▋         | 634/9121 [01:12<06:02, 23.41it/s]  "
     ]
    },
    {
     "name": "stdout",
     "output_type": "stream",
     "text": [
      "Length mismatch: Expected axis has 481 elements, new values have 480 elements\n"
     ]
    },
    {
     "name": "stderr",
     "output_type": "stream",
     "text": [
      "Processing CRK:  20%|█▉        | 1804/9121 [02:05<05:22, 22.66it/s]  "
     ]
    },
    {
     "name": "stdout",
     "output_type": "stream",
     "text": [
      "Length mismatch: Expected axis has 481 elements, new values have 480 elements\n"
     ]
    },
    {
     "name": "stderr",
     "output_type": "stream",
     "text": [
      "Processing LIBYU:  54%|█████▍    | 4917/9121 [04:29<02:59, 23.46it/s]"
     ]
    },
    {
     "name": "stdout",
     "output_type": "stream",
     "text": [
      "Length mismatch: Expected axis has 481 elements, new values have 480 elements\n"
     ]
    },
    {
     "name": "stderr",
     "output_type": "stream",
     "text": [
      "Processing MEAR:  57%|█████▋    | 5191/9121 [04:41<02:49, 23.23it/s] "
     ]
    },
    {
     "name": "stdout",
     "output_type": "stream",
     "text": [
      "Length mismatch: Expected axis has 481 elements, new values have 480 elements\n"
     ]
    },
    {
     "name": "stderr",
     "output_type": "stream",
     "text": [
      "Processing ZYXI: 100%|██████████| 9121/9121 [07:42<00:00, 19.74it/s] \n",
      "100%|██████████| 113/113 [00:00<00:00, 135.07it/s]\n"
     ]
    }
   ],
   "source": [
    "pbar = tqdm(symbols.iterrows(), total=len(symbols))\n",
    "windows = []\n",
    "for i, row in pbar:\n",
    "    symbol = row['symbol']\n",
    "    exchange = row['primary_exchange']\n",
    "    pbar.set_description(f'Processing {symbol}')\n",
    "    \n",
    "    try:\n",
    "        gaps = process(symbol, exchange)\n",
    "        if len(gaps) > 0:\n",
    "            gaps['symbol'] = symbol\n",
    "            gaps['exchange'] = exchange\n",
    "            windows.append(gaps)\n",
    "    except ValueError as e:\n",
    "        print(e)\n",
    "        #raise e\n",
    "        pass\n",
    "\n",
    "df = pd.concat(windows)\n",
    "df = df.round(2)\n",
    "df = df.drop(['exchange', 'capital gains'], axis=1)\n",
    "df = df.replace('', np.nan)\n",
    "\n",
    "df = df.replace([np.inf, -np.inf], 0)\n",
    "for column in tqdm(df.columns):\n",
    "    df[column] = pd.to_numeric(df[column], errors='ignore')"
   ],
   "metadata": {
    "collapsed": false,
    "ExecuteTime": {
     "end_time": "2023-12-01T16:09:56.526178200Z",
     "start_time": "2023-12-01T16:02:01.135164800Z"
    }
   },
   "id": "d236264908295dc8"
  },
  {
   "cell_type": "code",
   "execution_count": 31,
   "outputs": [
    {
     "data": {
      "text/plain": "                             open    high     low       close   volume  \\\ndate                                                                     \n2022-01-03 00:00:00+00:00   33.26   33.63   32.69   33.169998   556800   \n2022-01-04 00:00:00+00:00   33.12   33.53   32.49   32.509998   260700   \n2022-01-05 00:00:00+00:00   32.33   32.49   31.49   31.570000   287800   \n2022-01-06 00:00:00+00:00   31.34   31.70   31.19   31.469999   232000   \n2022-01-07 00:00:00+00:00   31.39   31.89   31.06   31.070000   394500   \n...                           ...     ...     ...         ...      ...   \n2023-11-22 00:00:00+00:00  112.11  116.37  112.01  113.760002   770700   \n2023-11-24 00:00:00+00:00  114.09  115.39  113.06  114.379997   406100   \n2023-11-27 00:00:00+00:00  115.31  121.01  115.00  117.440002  1542400   \n2023-11-28 00:00:00+00:00  117.07  121.26  116.59  118.190002  1402400   \n2023-11-29 00:00:00+00:00  119.20  120.44  117.63  118.889999  1003492   \n\n                           dividends  splits  eps_estimate  reported_eps  \\\ndate                                                                       \n2022-01-03 00:00:00+00:00        0.0     0.0           NaN           NaN   \n2022-01-04 00:00:00+00:00        0.0     0.0           NaN           NaN   \n2022-01-05 00:00:00+00:00        0.0     0.0           NaN           NaN   \n2022-01-06 00:00:00+00:00        0.0     0.0           NaN           NaN   \n2022-01-07 00:00:00+00:00        0.0     0.0           NaN           NaN   \n...                              ...     ...           ...           ...   \n2023-11-22 00:00:00+00:00        0.0     0.0          0.53          0.82   \n2023-11-24 00:00:00+00:00        0.0     0.0          0.53          0.82   \n2023-11-27 00:00:00+00:00        0.0     0.0          0.53          0.82   \n2023-11-28 00:00:00+00:00        0.0     0.0          0.53          0.82   \n2023-11-29 00:00:00+00:00        0.0     0.0          0.53          0.82   \n\n                           surprise_pct  ...  close_ma_20  volume_avg_10  \\\ndate                                     ...                               \n2022-01-03 00:00:00+00:00           NaN  ...          NaN            NaN   \n2022-01-04 00:00:00+00:00           NaN  ...          NaN            NaN   \n2022-01-05 00:00:00+00:00           NaN  ...          NaN            NaN   \n2022-01-06 00:00:00+00:00           NaN  ...          NaN            NaN   \n2022-01-07 00:00:00+00:00           NaN  ...          NaN            NaN   \n...                                 ...  ...          ...            ...   \n2023-11-22 00:00:00+00:00         56.06  ...       103.20      1651150.0   \n2023-11-24 00:00:00+00:00         56.06  ...       103.77      1519140.0   \n2023-11-27 00:00:00+00:00         56.06  ...       104.53      1410240.0   \n2023-11-28 00:00:00+00:00         56.06  ...       105.29      1436460.0   \n2023-11-29 00:00:00+00:00         56.06  ...       106.60      1352789.2   \n\n                           highest_1  highest_1_index  lowest_1  \\\ndate                                                              \n2022-01-03 00:00:00+00:00      33.63              0.0     32.69   \n2022-01-04 00:00:00+00:00      33.53              0.0     32.49   \n2022-01-05 00:00:00+00:00      32.49              0.0     31.49   \n2022-01-06 00:00:00+00:00      31.89              1.0     31.06   \n2022-01-07 00:00:00+00:00      31.89              0.0     31.06   \n...                              ...              ...       ...   \n2023-11-22 00:00:00+00:00     121.26              3.0    112.01   \n2023-11-24 00:00:00+00:00     121.26              2.0    113.06   \n2023-11-27 00:00:00+00:00     121.26              1.0    115.00   \n2023-11-28 00:00:00+00:00     121.26              0.0    116.59   \n2023-11-29 00:00:00+00:00     120.44              0.0    117.63   \n\n                           drawdown_open_1  drawdown_low_1  maxrunup_open_1  \\\ndate                                                                          \n2022-01-03 00:00:00+00:00            -1.71            0.00             1.11   \n2022-01-04 00:00:00+00:00            -1.90            0.00             1.24   \n2022-01-05 00:00:00+00:00            -2.60            0.00             0.49   \n2022-01-06 00:00:00+00:00            -0.89           -0.42             1.75   \n2022-01-07 00:00:00+00:00            -1.05            0.00             1.59   \n...                                    ...             ...              ...   \n2023-11-22 00:00:00+00:00            -0.09            0.00             8.17   \n2023-11-24 00:00:00+00:00            -0.90            0.00             6.29   \n2023-11-27 00:00:00+00:00            -0.27            0.00             5.16   \n2023-11-28 00:00:00+00:00            -0.41            0.00             3.58   \n2023-11-29 00:00:00+00:00            -1.32            0.00             1.04   \n\n                           maxrunup_close_1   win1  \ndate                                                \n2022-01-03 00:00:00+00:00              1.39 -10.85  \n2022-01-04 00:00:00+00:00              3.14 -12.27  \n2022-01-05 00:00:00+00:00              2.91  -9.60  \n2022-01-06 00:00:00+00:00              1.33 -10.42  \n2022-01-07 00:00:00+00:00              2.64  -8.56  \n...                                     ...    ...  \n2023-11-22 00:00:00+00:00              6.60    NaN  \n2023-11-24 00:00:00+00:00              6.02    NaN  \n2023-11-27 00:00:00+00:00              3.26    NaN  \n2023-11-28 00:00:00+00:00              2.60    NaN  \n2023-11-29 00:00:00+00:00              1.30    NaN  \n\n[480 rows x 113 columns]",
      "text/html": "<div>\n<style scoped>\n    .dataframe tbody tr th:only-of-type {\n        vertical-align: middle;\n    }\n\n    .dataframe tbody tr th {\n        vertical-align: top;\n    }\n\n    .dataframe thead th {\n        text-align: right;\n    }\n</style>\n<table border=\"1\" class=\"dataframe\">\n  <thead>\n    <tr style=\"text-align: right;\">\n      <th></th>\n      <th>open</th>\n      <th>high</th>\n      <th>low</th>\n      <th>close</th>\n      <th>volume</th>\n      <th>dividends</th>\n      <th>splits</th>\n      <th>eps_estimate</th>\n      <th>reported_eps</th>\n      <th>surprise_pct</th>\n      <th>...</th>\n      <th>close_ma_20</th>\n      <th>volume_avg_10</th>\n      <th>highest_1</th>\n      <th>highest_1_index</th>\n      <th>lowest_1</th>\n      <th>drawdown_open_1</th>\n      <th>drawdown_low_1</th>\n      <th>maxrunup_open_1</th>\n      <th>maxrunup_close_1</th>\n      <th>win1</th>\n    </tr>\n    <tr>\n      <th>date</th>\n      <th></th>\n      <th></th>\n      <th></th>\n      <th></th>\n      <th></th>\n      <th></th>\n      <th></th>\n      <th></th>\n      <th></th>\n      <th></th>\n      <th></th>\n      <th></th>\n      <th></th>\n      <th></th>\n      <th></th>\n      <th></th>\n      <th></th>\n      <th></th>\n      <th></th>\n      <th></th>\n      <th></th>\n    </tr>\n  </thead>\n  <tbody>\n    <tr>\n      <th>2022-01-03 00:00:00+00:00</th>\n      <td>33.26</td>\n      <td>33.63</td>\n      <td>32.69</td>\n      <td>33.169998</td>\n      <td>556800</td>\n      <td>0.0</td>\n      <td>0.0</td>\n      <td>NaN</td>\n      <td>NaN</td>\n      <td>NaN</td>\n      <td>...</td>\n      <td>NaN</td>\n      <td>NaN</td>\n      <td>33.63</td>\n      <td>0.0</td>\n      <td>32.69</td>\n      <td>-1.71</td>\n      <td>0.00</td>\n      <td>1.11</td>\n      <td>1.39</td>\n      <td>-10.85</td>\n    </tr>\n    <tr>\n      <th>2022-01-04 00:00:00+00:00</th>\n      <td>33.12</td>\n      <td>33.53</td>\n      <td>32.49</td>\n      <td>32.509998</td>\n      <td>260700</td>\n      <td>0.0</td>\n      <td>0.0</td>\n      <td>NaN</td>\n      <td>NaN</td>\n      <td>NaN</td>\n      <td>...</td>\n      <td>NaN</td>\n      <td>NaN</td>\n      <td>33.53</td>\n      <td>0.0</td>\n      <td>32.49</td>\n      <td>-1.90</td>\n      <td>0.00</td>\n      <td>1.24</td>\n      <td>3.14</td>\n      <td>-12.27</td>\n    </tr>\n    <tr>\n      <th>2022-01-05 00:00:00+00:00</th>\n      <td>32.33</td>\n      <td>32.49</td>\n      <td>31.49</td>\n      <td>31.570000</td>\n      <td>287800</td>\n      <td>0.0</td>\n      <td>0.0</td>\n      <td>NaN</td>\n      <td>NaN</td>\n      <td>NaN</td>\n      <td>...</td>\n      <td>NaN</td>\n      <td>NaN</td>\n      <td>32.49</td>\n      <td>0.0</td>\n      <td>31.49</td>\n      <td>-2.60</td>\n      <td>0.00</td>\n      <td>0.49</td>\n      <td>2.91</td>\n      <td>-9.60</td>\n    </tr>\n    <tr>\n      <th>2022-01-06 00:00:00+00:00</th>\n      <td>31.34</td>\n      <td>31.70</td>\n      <td>31.19</td>\n      <td>31.469999</td>\n      <td>232000</td>\n      <td>0.0</td>\n      <td>0.0</td>\n      <td>NaN</td>\n      <td>NaN</td>\n      <td>NaN</td>\n      <td>...</td>\n      <td>NaN</td>\n      <td>NaN</td>\n      <td>31.89</td>\n      <td>1.0</td>\n      <td>31.06</td>\n      <td>-0.89</td>\n      <td>-0.42</td>\n      <td>1.75</td>\n      <td>1.33</td>\n      <td>-10.42</td>\n    </tr>\n    <tr>\n      <th>2022-01-07 00:00:00+00:00</th>\n      <td>31.39</td>\n      <td>31.89</td>\n      <td>31.06</td>\n      <td>31.070000</td>\n      <td>394500</td>\n      <td>0.0</td>\n      <td>0.0</td>\n      <td>NaN</td>\n      <td>NaN</td>\n      <td>NaN</td>\n      <td>...</td>\n      <td>NaN</td>\n      <td>NaN</td>\n      <td>31.89</td>\n      <td>0.0</td>\n      <td>31.06</td>\n      <td>-1.05</td>\n      <td>0.00</td>\n      <td>1.59</td>\n      <td>2.64</td>\n      <td>-8.56</td>\n    </tr>\n    <tr>\n      <th>...</th>\n      <td>...</td>\n      <td>...</td>\n      <td>...</td>\n      <td>...</td>\n      <td>...</td>\n      <td>...</td>\n      <td>...</td>\n      <td>...</td>\n      <td>...</td>\n      <td>...</td>\n      <td>...</td>\n      <td>...</td>\n      <td>...</td>\n      <td>...</td>\n      <td>...</td>\n      <td>...</td>\n      <td>...</td>\n      <td>...</td>\n      <td>...</td>\n      <td>...</td>\n      <td>...</td>\n    </tr>\n    <tr>\n      <th>2023-11-22 00:00:00+00:00</th>\n      <td>112.11</td>\n      <td>116.37</td>\n      <td>112.01</td>\n      <td>113.760002</td>\n      <td>770700</td>\n      <td>0.0</td>\n      <td>0.0</td>\n      <td>0.53</td>\n      <td>0.82</td>\n      <td>56.06</td>\n      <td>...</td>\n      <td>103.20</td>\n      <td>1651150.0</td>\n      <td>121.26</td>\n      <td>3.0</td>\n      <td>112.01</td>\n      <td>-0.09</td>\n      <td>0.00</td>\n      <td>8.17</td>\n      <td>6.60</td>\n      <td>NaN</td>\n    </tr>\n    <tr>\n      <th>2023-11-24 00:00:00+00:00</th>\n      <td>114.09</td>\n      <td>115.39</td>\n      <td>113.06</td>\n      <td>114.379997</td>\n      <td>406100</td>\n      <td>0.0</td>\n      <td>0.0</td>\n      <td>0.53</td>\n      <td>0.82</td>\n      <td>56.06</td>\n      <td>...</td>\n      <td>103.77</td>\n      <td>1519140.0</td>\n      <td>121.26</td>\n      <td>2.0</td>\n      <td>113.06</td>\n      <td>-0.90</td>\n      <td>0.00</td>\n      <td>6.29</td>\n      <td>6.02</td>\n      <td>NaN</td>\n    </tr>\n    <tr>\n      <th>2023-11-27 00:00:00+00:00</th>\n      <td>115.31</td>\n      <td>121.01</td>\n      <td>115.00</td>\n      <td>117.440002</td>\n      <td>1542400</td>\n      <td>0.0</td>\n      <td>0.0</td>\n      <td>0.53</td>\n      <td>0.82</td>\n      <td>56.06</td>\n      <td>...</td>\n      <td>104.53</td>\n      <td>1410240.0</td>\n      <td>121.26</td>\n      <td>1.0</td>\n      <td>115.00</td>\n      <td>-0.27</td>\n      <td>0.00</td>\n      <td>5.16</td>\n      <td>3.26</td>\n      <td>NaN</td>\n    </tr>\n    <tr>\n      <th>2023-11-28 00:00:00+00:00</th>\n      <td>117.07</td>\n      <td>121.26</td>\n      <td>116.59</td>\n      <td>118.190002</td>\n      <td>1402400</td>\n      <td>0.0</td>\n      <td>0.0</td>\n      <td>0.53</td>\n      <td>0.82</td>\n      <td>56.06</td>\n      <td>...</td>\n      <td>105.29</td>\n      <td>1436460.0</td>\n      <td>121.26</td>\n      <td>0.0</td>\n      <td>116.59</td>\n      <td>-0.41</td>\n      <td>0.00</td>\n      <td>3.58</td>\n      <td>2.60</td>\n      <td>NaN</td>\n    </tr>\n    <tr>\n      <th>2023-11-29 00:00:00+00:00</th>\n      <td>119.20</td>\n      <td>120.44</td>\n      <td>117.63</td>\n      <td>118.889999</td>\n      <td>1003492</td>\n      <td>0.0</td>\n      <td>0.0</td>\n      <td>0.53</td>\n      <td>0.82</td>\n      <td>56.06</td>\n      <td>...</td>\n      <td>106.60</td>\n      <td>1352789.2</td>\n      <td>120.44</td>\n      <td>0.0</td>\n      <td>117.63</td>\n      <td>-1.32</td>\n      <td>0.00</td>\n      <td>1.04</td>\n      <td>1.30</td>\n      <td>NaN</td>\n    </tr>\n  </tbody>\n</table>\n<p>480 rows × 113 columns</p>\n</div>"
     },
     "execution_count": 31,
     "metadata": {},
     "output_type": "execute_result"
    }
   ],
   "source": [
    "df[df['symbol'] == 'ELF']"
   ],
   "metadata": {
    "collapsed": false,
    "ExecuteTime": {
     "end_time": "2023-12-01T21:02:14.305957500Z",
     "start_time": "2023-12-01T21:02:14.089480100Z"
    }
   },
   "id": "4dece6411ba46826"
  },
  {
   "cell_type": "markdown",
   "source": [
    "# General Filtering"
   ],
   "metadata": {
    "collapsed": false
   },
   "id": "f2dfa7bc371e2970"
  },
  {
   "cell_type": "markdown",
   "source": [
    "### Keep  data after 2023"
   ],
   "metadata": {
    "collapsed": false
   },
   "id": "5282f37eed95f89d"
  },
  {
   "cell_type": "code",
   "execution_count": 32,
   "outputs": [
    {
     "name": "stdout",
     "output_type": "stream",
     "text": [
      "Size before: 4324986\n",
      "Size after: 2087218\n"
     ]
    }
   ],
   "source": [
    "print(f\"Size before: {len(df)}\")\n",
    "df_ = df.loc[df.index > '2023-01-01'].copy()\n",
    "print(f\"Size after: {len(df_)}\")"
   ],
   "metadata": {
    "collapsed": false,
    "ExecuteTime": {
     "end_time": "2023-12-01T21:02:31.986091900Z",
     "start_time": "2023-12-01T21:02:30.102632100Z"
    }
   },
   "id": "d9949192922d7dd7"
  },
  {
   "cell_type": "markdown",
   "source": [
    "### Keep Data with Earnings (yesterday's night or today's morning)"
   ],
   "metadata": {
    "collapsed": false
   },
   "id": "651f027d08e4dac5"
  },
  {
   "cell_type": "code",
   "execution_count": 33,
   "outputs": [
    {
     "name": "stdout",
     "output_type": "stream",
     "text": [
      "Size before: 2087218\n",
      "Size after: 782585\n"
     ]
    }
   ],
   "source": [
    "print(f\"Size before: {len(df_)}\")\n",
    "# TODO Check if reported earnings on evening happens the day after\n",
    "df_ = df_.loc[df_['reported_eps'].notnull()].copy()\n",
    "print(f\"Size after: {len(df_)}\")"
   ],
   "metadata": {
    "collapsed": false,
    "ExecuteTime": {
     "end_time": "2023-12-01T21:02:39.166653800Z",
     "start_time": "2023-12-01T21:02:38.781970300Z"
    }
   },
   "id": "4a9f4c66439b9059"
  },
  {
   "cell_type": "code",
   "execution_count": 36,
   "outputs": [
    {
     "data": {
      "text/plain": "                             open    high     low       close   volume  \\\ndate                                                                     \n2023-01-03 00:00:00+00:00   56.17   56.96   54.90   55.340000   614400   \n2023-01-04 00:00:00+00:00   55.06   57.00   55.06   55.970001   565600   \n2023-01-05 00:00:00+00:00   55.86   56.46   55.00   55.610001   815900   \n2023-01-06 00:00:00+00:00   56.04   58.76   55.90   58.049999  1604400   \n2023-01-09 00:00:00+00:00   57.95   58.49   55.60   55.759998  1949400   \n...                           ...     ...     ...         ...      ...   \n2023-11-22 00:00:00+00:00  112.11  116.37  112.01  113.760002   770700   \n2023-11-24 00:00:00+00:00  114.09  115.39  113.06  114.379997   406100   \n2023-11-27 00:00:00+00:00  115.31  121.01  115.00  117.440002  1542400   \n2023-11-28 00:00:00+00:00  117.07  121.26  116.59  118.190002  1402400   \n2023-11-29 00:00:00+00:00  119.20  120.44  117.63  118.889999  1003492   \n\n                           dividends  splits  eps_estimate  reported_eps  \\\ndate                                                                       \n2023-01-03 00:00:00+00:00        0.0     0.0          0.16          0.36   \n2023-01-04 00:00:00+00:00        0.0     0.0          0.16          0.36   \n2023-01-05 00:00:00+00:00        0.0     0.0          0.16          0.36   \n2023-01-06 00:00:00+00:00        0.0     0.0          0.16          0.36   \n2023-01-09 00:00:00+00:00        0.0     0.0          0.16          0.36   \n...                              ...     ...           ...           ...   \n2023-11-22 00:00:00+00:00        0.0     0.0          0.53          0.82   \n2023-11-24 00:00:00+00:00        0.0     0.0          0.53          0.82   \n2023-11-27 00:00:00+00:00        0.0     0.0          0.53          0.82   \n2023-11-28 00:00:00+00:00        0.0     0.0          0.53          0.82   \n2023-11-29 00:00:00+00:00        0.0     0.0          0.53          0.82   \n\n                           surprise_pct  ...  close_ma_20  volume_avg_10  \\\ndate                                     ...                               \n2023-01-03 00:00:00+00:00        123.71  ...        54.88       446300.0   \n2023-01-04 00:00:00+00:00        123.71  ...        54.98       448540.0   \n2023-01-05 00:00:00+00:00        123.71  ...        55.02       469300.0   \n2023-01-06 00:00:00+00:00        123.71  ...        55.20       597050.0   \n2023-01-09 00:00:00+00:00        123.71  ...        55.23       754540.0   \n...                                 ...  ...          ...            ...   \n2023-11-22 00:00:00+00:00         56.06  ...       103.20      1651150.0   \n2023-11-24 00:00:00+00:00         56.06  ...       103.77      1519140.0   \n2023-11-27 00:00:00+00:00         56.06  ...       104.53      1410240.0   \n2023-11-28 00:00:00+00:00         56.06  ...       105.29      1436460.0   \n2023-11-29 00:00:00+00:00         56.06  ...       106.60      1352789.2   \n\n                           highest_1  highest_1_index  lowest_1  \\\ndate                                                              \n2023-01-03 00:00:00+00:00      58.76              3.0     54.90   \n2023-01-04 00:00:00+00:00      69.30             20.0     48.10   \n2023-01-05 00:00:00+00:00      71.62             20.0     48.10   \n2023-01-06 00:00:00+00:00      71.62             19.0     48.10   \n2023-01-09 00:00:00+00:00      72.20             20.0     48.10   \n...                              ...              ...       ...   \n2023-11-22 00:00:00+00:00     121.26              3.0    112.01   \n2023-11-24 00:00:00+00:00     121.26              2.0    113.06   \n2023-11-27 00:00:00+00:00     121.26              1.0    115.00   \n2023-11-28 00:00:00+00:00     121.26              0.0    116.59   \n2023-11-29 00:00:00+00:00     120.44              0.0    117.63   \n\n                           drawdown_open_1  drawdown_low_1  maxrunup_open_1  \\\ndate                                                                          \n2023-01-03 00:00:00+00:00            -2.26            0.00             4.61   \n2023-01-04 00:00:00+00:00           -12.64          -12.64            25.86   \n2023-01-05 00:00:00+00:00           -13.89          -12.55            28.21   \n2023-01-06 00:00:00+00:00           -14.17          -13.96            27.80   \n2023-01-09 00:00:00+00:00           -17.00          -13.49            24.59   \n...                                    ...             ...              ...   \n2023-11-22 00:00:00+00:00            -0.09            0.00             8.17   \n2023-11-24 00:00:00+00:00            -0.90            0.00             6.29   \n2023-11-27 00:00:00+00:00            -0.27            0.00             5.16   \n2023-11-28 00:00:00+00:00            -0.41            0.00             3.58   \n2023-11-29 00:00:00+00:00            -1.32            0.00             1.04   \n\n                           maxrunup_close_1   win1  \ndate                                                \n2023-01-03 00:00:00+00:00              6.18  21.59  \n2023-01-04 00:00:00+00:00             23.81  24.60  \n2023-01-05 00:00:00+00:00             28.79  23.48  \n2023-01-06 00:00:00+00:00             23.38  24.08  \n2023-01-09 00:00:00+00:00             29.48  28.35  \n...                                     ...    ...  \n2023-11-22 00:00:00+00:00              6.60    NaN  \n2023-11-24 00:00:00+00:00              6.02    NaN  \n2023-11-27 00:00:00+00:00              3.26    NaN  \n2023-11-28 00:00:00+00:00              2.60    NaN  \n2023-11-29 00:00:00+00:00              1.30    NaN  \n\n[229 rows x 113 columns]",
      "text/html": "<div>\n<style scoped>\n    .dataframe tbody tr th:only-of-type {\n        vertical-align: middle;\n    }\n\n    .dataframe tbody tr th {\n        vertical-align: top;\n    }\n\n    .dataframe thead th {\n        text-align: right;\n    }\n</style>\n<table border=\"1\" class=\"dataframe\">\n  <thead>\n    <tr style=\"text-align: right;\">\n      <th></th>\n      <th>open</th>\n      <th>high</th>\n      <th>low</th>\n      <th>close</th>\n      <th>volume</th>\n      <th>dividends</th>\n      <th>splits</th>\n      <th>eps_estimate</th>\n      <th>reported_eps</th>\n      <th>surprise_pct</th>\n      <th>...</th>\n      <th>close_ma_20</th>\n      <th>volume_avg_10</th>\n      <th>highest_1</th>\n      <th>highest_1_index</th>\n      <th>lowest_1</th>\n      <th>drawdown_open_1</th>\n      <th>drawdown_low_1</th>\n      <th>maxrunup_open_1</th>\n      <th>maxrunup_close_1</th>\n      <th>win1</th>\n    </tr>\n    <tr>\n      <th>date</th>\n      <th></th>\n      <th></th>\n      <th></th>\n      <th></th>\n      <th></th>\n      <th></th>\n      <th></th>\n      <th></th>\n      <th></th>\n      <th></th>\n      <th></th>\n      <th></th>\n      <th></th>\n      <th></th>\n      <th></th>\n      <th></th>\n      <th></th>\n      <th></th>\n      <th></th>\n      <th></th>\n      <th></th>\n    </tr>\n  </thead>\n  <tbody>\n    <tr>\n      <th>2023-01-03 00:00:00+00:00</th>\n      <td>56.17</td>\n      <td>56.96</td>\n      <td>54.90</td>\n      <td>55.340000</td>\n      <td>614400</td>\n      <td>0.0</td>\n      <td>0.0</td>\n      <td>0.16</td>\n      <td>0.36</td>\n      <td>123.71</td>\n      <td>...</td>\n      <td>54.88</td>\n      <td>446300.0</td>\n      <td>58.76</td>\n      <td>3.0</td>\n      <td>54.90</td>\n      <td>-2.26</td>\n      <td>0.00</td>\n      <td>4.61</td>\n      <td>6.18</td>\n      <td>21.59</td>\n    </tr>\n    <tr>\n      <th>2023-01-04 00:00:00+00:00</th>\n      <td>55.06</td>\n      <td>57.00</td>\n      <td>55.06</td>\n      <td>55.970001</td>\n      <td>565600</td>\n      <td>0.0</td>\n      <td>0.0</td>\n      <td>0.16</td>\n      <td>0.36</td>\n      <td>123.71</td>\n      <td>...</td>\n      <td>54.98</td>\n      <td>448540.0</td>\n      <td>69.30</td>\n      <td>20.0</td>\n      <td>48.10</td>\n      <td>-12.64</td>\n      <td>-12.64</td>\n      <td>25.86</td>\n      <td>23.81</td>\n      <td>24.60</td>\n    </tr>\n    <tr>\n      <th>2023-01-05 00:00:00+00:00</th>\n      <td>55.86</td>\n      <td>56.46</td>\n      <td>55.00</td>\n      <td>55.610001</td>\n      <td>815900</td>\n      <td>0.0</td>\n      <td>0.0</td>\n      <td>0.16</td>\n      <td>0.36</td>\n      <td>123.71</td>\n      <td>...</td>\n      <td>55.02</td>\n      <td>469300.0</td>\n      <td>71.62</td>\n      <td>20.0</td>\n      <td>48.10</td>\n      <td>-13.89</td>\n      <td>-12.55</td>\n      <td>28.21</td>\n      <td>28.79</td>\n      <td>23.48</td>\n    </tr>\n    <tr>\n      <th>2023-01-06 00:00:00+00:00</th>\n      <td>56.04</td>\n      <td>58.76</td>\n      <td>55.90</td>\n      <td>58.049999</td>\n      <td>1604400</td>\n      <td>0.0</td>\n      <td>0.0</td>\n      <td>0.16</td>\n      <td>0.36</td>\n      <td>123.71</td>\n      <td>...</td>\n      <td>55.20</td>\n      <td>597050.0</td>\n      <td>71.62</td>\n      <td>19.0</td>\n      <td>48.10</td>\n      <td>-14.17</td>\n      <td>-13.96</td>\n      <td>27.80</td>\n      <td>23.38</td>\n      <td>24.08</td>\n    </tr>\n    <tr>\n      <th>2023-01-09 00:00:00+00:00</th>\n      <td>57.95</td>\n      <td>58.49</td>\n      <td>55.60</td>\n      <td>55.759998</td>\n      <td>1949400</td>\n      <td>0.0</td>\n      <td>0.0</td>\n      <td>0.16</td>\n      <td>0.36</td>\n      <td>123.71</td>\n      <td>...</td>\n      <td>55.23</td>\n      <td>754540.0</td>\n      <td>72.20</td>\n      <td>20.0</td>\n      <td>48.10</td>\n      <td>-17.00</td>\n      <td>-13.49</td>\n      <td>24.59</td>\n      <td>29.48</td>\n      <td>28.35</td>\n    </tr>\n    <tr>\n      <th>...</th>\n      <td>...</td>\n      <td>...</td>\n      <td>...</td>\n      <td>...</td>\n      <td>...</td>\n      <td>...</td>\n      <td>...</td>\n      <td>...</td>\n      <td>...</td>\n      <td>...</td>\n      <td>...</td>\n      <td>...</td>\n      <td>...</td>\n      <td>...</td>\n      <td>...</td>\n      <td>...</td>\n      <td>...</td>\n      <td>...</td>\n      <td>...</td>\n      <td>...</td>\n      <td>...</td>\n    </tr>\n    <tr>\n      <th>2023-11-22 00:00:00+00:00</th>\n      <td>112.11</td>\n      <td>116.37</td>\n      <td>112.01</td>\n      <td>113.760002</td>\n      <td>770700</td>\n      <td>0.0</td>\n      <td>0.0</td>\n      <td>0.53</td>\n      <td>0.82</td>\n      <td>56.06</td>\n      <td>...</td>\n      <td>103.20</td>\n      <td>1651150.0</td>\n      <td>121.26</td>\n      <td>3.0</td>\n      <td>112.01</td>\n      <td>-0.09</td>\n      <td>0.00</td>\n      <td>8.17</td>\n      <td>6.60</td>\n      <td>NaN</td>\n    </tr>\n    <tr>\n      <th>2023-11-24 00:00:00+00:00</th>\n      <td>114.09</td>\n      <td>115.39</td>\n      <td>113.06</td>\n      <td>114.379997</td>\n      <td>406100</td>\n      <td>0.0</td>\n      <td>0.0</td>\n      <td>0.53</td>\n      <td>0.82</td>\n      <td>56.06</td>\n      <td>...</td>\n      <td>103.77</td>\n      <td>1519140.0</td>\n      <td>121.26</td>\n      <td>2.0</td>\n      <td>113.06</td>\n      <td>-0.90</td>\n      <td>0.00</td>\n      <td>6.29</td>\n      <td>6.02</td>\n      <td>NaN</td>\n    </tr>\n    <tr>\n      <th>2023-11-27 00:00:00+00:00</th>\n      <td>115.31</td>\n      <td>121.01</td>\n      <td>115.00</td>\n      <td>117.440002</td>\n      <td>1542400</td>\n      <td>0.0</td>\n      <td>0.0</td>\n      <td>0.53</td>\n      <td>0.82</td>\n      <td>56.06</td>\n      <td>...</td>\n      <td>104.53</td>\n      <td>1410240.0</td>\n      <td>121.26</td>\n      <td>1.0</td>\n      <td>115.00</td>\n      <td>-0.27</td>\n      <td>0.00</td>\n      <td>5.16</td>\n      <td>3.26</td>\n      <td>NaN</td>\n    </tr>\n    <tr>\n      <th>2023-11-28 00:00:00+00:00</th>\n      <td>117.07</td>\n      <td>121.26</td>\n      <td>116.59</td>\n      <td>118.190002</td>\n      <td>1402400</td>\n      <td>0.0</td>\n      <td>0.0</td>\n      <td>0.53</td>\n      <td>0.82</td>\n      <td>56.06</td>\n      <td>...</td>\n      <td>105.29</td>\n      <td>1436460.0</td>\n      <td>121.26</td>\n      <td>0.0</td>\n      <td>116.59</td>\n      <td>-0.41</td>\n      <td>0.00</td>\n      <td>3.58</td>\n      <td>2.60</td>\n      <td>NaN</td>\n    </tr>\n    <tr>\n      <th>2023-11-29 00:00:00+00:00</th>\n      <td>119.20</td>\n      <td>120.44</td>\n      <td>117.63</td>\n      <td>118.889999</td>\n      <td>1003492</td>\n      <td>0.0</td>\n      <td>0.0</td>\n      <td>0.53</td>\n      <td>0.82</td>\n      <td>56.06</td>\n      <td>...</td>\n      <td>106.60</td>\n      <td>1352789.2</td>\n      <td>120.44</td>\n      <td>0.0</td>\n      <td>117.63</td>\n      <td>-1.32</td>\n      <td>0.00</td>\n      <td>1.04</td>\n      <td>1.30</td>\n      <td>NaN</td>\n    </tr>\n  </tbody>\n</table>\n<p>229 rows × 113 columns</p>\n</div>"
     },
     "execution_count": 36,
     "metadata": {},
     "output_type": "execute_result"
    }
   ],
   "source": [
    "df_[df_['symbol'] == 'ELF']"
   ],
   "metadata": {
    "collapsed": false,
    "ExecuteTime": {
     "end_time": "2023-12-01T21:02:55.972521Z",
     "start_time": "2023-12-01T21:02:55.811735Z"
    }
   },
   "id": "eec46e75b42d9630"
  },
  {
   "cell_type": "code",
   "execution_count": 34,
   "outputs": [],
   "source": [
    "#date_index = [d for (s, d) in df_filtered.index]\n",
    "#df_filtered['date'] = date_index\n",
    "# Set date as index\n",
    "#df_filtered = df_filtered.set_index('date').copy()"
   ],
   "metadata": {
    "collapsed": false,
    "ExecuteTime": {
     "end_time": "2023-12-01T21:02:44.591880800Z",
     "start_time": "2023-12-01T21:02:44.543761500Z"
    }
   },
   "id": "1d5cab3e4830fc4e"
  },
  {
   "cell_type": "markdown",
   "source": [
    "### Keep data with gap"
   ],
   "metadata": {
    "collapsed": false
   },
   "id": "eaaab05b55e1dd01"
  },
  {
   "cell_type": "code",
   "execution_count": 8,
   "outputs": [
    {
     "name": "stdout",
     "output_type": "stream",
     "text": [
      "Size before: 782585\n",
      "Size after: 369705\n"
     ]
    }
   ],
   "source": [
    "print(f\"Size before: {len(df_)}\")\n",
    "df_ = df_.loc[df_['gap'].notnull()].copy()\n",
    "print(f\"Size after: {len(df_)}\")"
   ],
   "metadata": {
    "collapsed": false,
    "ExecuteTime": {
     "end_time": "2023-12-01T19:22:35.621382900Z",
     "start_time": "2023-12-01T19:22:35.412010Z"
    }
   },
   "id": "ebc219e50212a2cc"
  },
  {
   "cell_type": "markdown",
   "source": [
    "# MA: Massive Earnings Acceleration or Massive Earnings Surprise or Massive Sales (Revenue)"
   ],
   "metadata": {
    "collapsed": false
   },
   "id": "203b81eb9bbe19ce"
  },
  {
   "cell_type": "code",
   "execution_count": null,
   "outputs": [],
   "source": [
    "print(f\"Size before: {len(df_)}\")\n",
    "df_ = df_.loc[(df_['earnings_acceleration'] > 100) | (df_['surprise_pct'] > 100) | (df_['sales_acceleration'] > 100)].copy()\n",
    "print(f\"Size after: {len(df_)}\")"
   ],
   "metadata": {
    "collapsed": false
   },
   "id": "b5f908d7f0453956"
  },
  {
   "cell_type": "markdown",
   "source": [
    "# G: Gap > 4% and Volume > 100,000"
   ],
   "metadata": {
    "collapsed": false
   },
   "id": "f317f90c7a1df358"
  },
  {
   "cell_type": "markdown",
   "source": [
    "Note: it doesn't check if the volume is post/pre market hours"
   ],
   "metadata": {
    "collapsed": false
   },
   "id": "5a17504d39bf04d7"
  },
  {
   "cell_type": "code",
   "execution_count": null,
   "outputs": [],
   "source": [
    "print(f\"Size before: {len(df_)}\")\n",
    "df_ = df_.loc[(df_['gap'] > 4) & (df_['volume'] > 100000)].copy()\n",
    "print(f\"Size after: {len(df_)}\")"
   ],
   "metadata": {
    "collapsed": false
   },
   "id": "2e1804ae8943f78a"
  },
  {
   "cell_type": "markdown",
   "source": [
    "# N: Neglect"
   ],
   "metadata": {
    "collapsed": false
   },
   "id": "202bc72bdc16def9"
  },
  {
   "cell_type": "code",
   "execution_count": null,
   "outputs": [],
   "source": [
    "print(f\"Size before: {len(df_)}\")\n",
    "df_ = df_.loc[df_['numberOfFunds'] <= 100].copy()\n",
    "print(f\"Size after: {len(df_)}\")"
   ],
   "metadata": {
    "collapsed": false
   },
   "id": "8a9e1a23553f6e15"
  },
  {
   "cell_type": "code",
   "execution_count": null,
   "outputs": [],
   "source": [
    "df_"
   ],
   "metadata": {
    "collapsed": false
   },
   "id": "d3de3148bc1fa04a"
  },
  {
   "cell_type": "markdown",
   "source": [
    "# A: Acceleration of Sales"
   ],
   "metadata": {
    "collapsed": false
   },
   "id": "8914a457669352fe"
  },
  {
   "cell_type": "code",
   "execution_count": null,
   "outputs": [],
   "source": [
    "print(f\"Size before: {len(df_)}\")\n",
    "df_ = df_.loc[(df_['sales_acceleration'] > 100)].copy()\n",
    "print(f\"Size after: {len(df_)}\")"
   ],
   "metadata": {
    "collapsed": false
   },
   "id": "30ccc3bfc35159b5"
  },
  {
   "cell_type": "code",
   "execution_count": null,
   "outputs": [],
   "source": [
    "df_"
   ],
   "metadata": {
    "collapsed": false
   },
   "id": "91767b12efa05777"
  },
  {
   "cell_type": "code",
   "execution_count": null,
   "outputs": [],
   "source": [],
   "metadata": {
    "collapsed": false
   },
   "id": "94b6c9d6fc608253"
  },
  {
   "cell_type": "markdown",
   "source": [
    "# Data"
   ],
   "metadata": {
    "collapsed": false
   },
   "id": "47ff962b035e668a"
  },
  {
   "cell_type": "code",
   "execution_count": 29,
   "outputs": [],
   "source": [
    "df_4gpt = df_[(df_['gap'] > 10) & (df_['adr'] > 3.5) & (df_['volume'] > 1000000) & (df_['volume'] > df_['volume_avg_10'])] \n",
    "df_4gpt = df_4gpt.drop(['maxrunup_close_1', 'win1', 'highest_1_index', 'drawdown_low_1', 'lowest_1', 'high', 'low', 'close','highest_1'], axis=1)\n",
    "df_4gpt.to_csv('4gpt.csv')"
   ],
   "metadata": {
    "collapsed": false,
    "ExecuteTime": {
     "end_time": "2023-12-01T20:12:56.437880100Z",
     "start_time": "2023-12-01T20:12:56.330331400Z"
    }
   },
   "id": "9cd222ce79ad26c2"
  },
  {
   "cell_type": "code",
   "execution_count": 30,
   "outputs": [
    {
     "data": {
      "text/plain": "                             open    volume  dividends  splits  eps_estimate  \\\ndate                                                                           \n2023-02-02 00:00:00+00:00  336.50   4437200        0.0     0.0          1.56   \n2023-07-27 00:00:00+00:00  403.83   3474500        0.0     0.0          2.03   \n2023-04-18 00:00:00+00:00   59.60   1896630        0.0     0.0         -0.42   \n2023-07-17 00:00:00+00:00  477.50   2641900        0.0     0.0         -3.41   \n2023-09-13 00:00:00+00:00   32.25   3650888        0.0     0.0         -0.06   \n...                           ...       ...        ...     ...           ...   \n2023-05-08 00:00:00+00:00   30.56  19266000        0.0     0.0          2.04   \n2023-02-22 00:00:00+00:00  189.42   2779500        0.0     0.0          0.41   \n2023-02-22 00:00:00+00:00   91.81   4466800        0.0     0.0          0.09   \n2023-02-16 00:00:00+00:00  312.58   1566600        0.0     0.0          1.38   \n2023-10-20 00:00:00+00:00   46.25   1133170        0.0     0.0         -1.34   \n\n                           reported_eps  surprise_pct  Amortization  \\\ndate                                                                  \n2023-02-02 00:00:00+00:00          1.73         10.90           NaN   \n2023-07-27 00:00:00+00:00          2.22          9.36           NaN   \n2023-04-18 00:00:00+00:00         -0.23         44.84           NaN   \n2023-07-17 00:00:00+00:00         -4.26        -24.92           NaN   \n2023-09-13 00:00:00+00:00         -0.05         16.67           NaN   \n...                                 ...           ...           ...   \n2023-05-08 00:00:00+00:00          2.30         12.90           NaN   \n2023-02-22 00:00:00+00:00          0.60         47.82           NaN   \n2023-02-22 00:00:00+00:00          0.61        546.67           NaN   \n2023-02-16 00:00:00+00:00          1.77         28.61           NaN   \n2023-10-20 00:00:00+00:00         -0.79         41.04       13692.0   \n\n                           AmortizationOfIntangiblesIncomeStatement  \\\ndate                                                                  \n2023-02-02 00:00:00+00:00                                       NaN   \n2023-07-27 00:00:00+00:00                                       NaN   \n2023-04-18 00:00:00+00:00                                       NaN   \n2023-07-17 00:00:00+00:00                                       NaN   \n2023-09-13 00:00:00+00:00                                       NaN   \n...                                                             ...   \n2023-05-08 00:00:00+00:00                                       NaN   \n2023-02-22 00:00:00+00:00                                       NaN   \n2023-02-22 00:00:00+00:00                                       NaN   \n2023-02-16 00:00:00+00:00                                       NaN   \n2023-10-20 00:00:00+00:00                                   13692.0   \n\n                           AverageDilutionEarnings  ...  close_ma_10  ema_12  \\\ndate                                                ...                        \n2023-02-02 00:00:00+00:00                      NaN  ...       270.92  273.78   \n2023-07-27 00:00:00+00:00                      NaN  ...       350.31  349.25   \n2023-04-18 00:00:00+00:00                      NaN  ...        51.70   61.56   \n2023-07-17 00:00:00+00:00                      NaN  ...       390.40  397.08   \n2023-09-13 00:00:00+00:00                      NaN  ...        16.00   16.84   \n...                                            ...  ...          ...     ...   \n2023-05-08 00:00:00+00:00                      NaN  ...        32.02   30.94   \n2023-02-22 00:00:00+00:00                      NaN  ...       167.33  167.97   \n2023-02-22 00:00:00+00:00                      NaN  ...        86.73   87.05   \n2023-02-16 00:00:00+00:00                      NaN  ...       276.54  278.60   \n2023-10-20 00:00:00+00:00                      NaN  ...        27.52   32.05   \n\n                           ema_26   MACD  signal  hist  close_ma_20  \\\ndate                                                                  \n2023-02-02 00:00:00+00:00  250.60  23.18   15.56  7.62       252.42   \n2023-07-27 00:00:00+00:00  342.69   6.56    6.80 -0.24       347.97   \n2023-04-18 00:00:00+00:00  102.98 -41.43  -45.89  4.46        78.03   \n2023-07-17 00:00:00+00:00  393.73   3.35   -2.66  6.00       391.33   \n2023-09-13 00:00:00+00:00   11.69   5.15    2.69  2.46        10.22   \n...                           ...    ...     ...   ...          ...   \n2023-05-08 00:00:00+00:00   34.31  -3.38   -2.63 -0.75        33.66   \n2023-02-22 00:00:00+00:00  161.96   6.02    4.99  1.03       163.80   \n2023-02-22 00:00:00+00:00   86.26   0.80    1.29 -0.49        87.94   \n2023-02-16 00:00:00+00:00  268.15  10.45    7.83  2.62       271.37   \n2023-10-20 00:00:00+00:00   36.71  -4.65   -6.14  1.49        35.34   \n\n                           volume_avg_10  drawdown_open_1  maxrunup_open_1  \ndate                                                                        \n2023-02-02 00:00:00+00:00      1456790.0            -1.16             9.62  \n2023-07-27 00:00:00+00:00      1296910.0            -6.02             2.32  \n2023-04-18 00:00:00+00:00       253332.5           -29.53           111.41  \n2023-07-17 00:00:00+00:00       516280.0            -0.65            15.34  \n2023-09-13 00:00:00+00:00      3083578.0           -21.71            27.91  \n...                                  ...              ...              ...  \n2023-05-08 00:00:00+00:00     18514190.0           -17.51            32.62  \n2023-02-22 00:00:00+00:00       992200.0            -6.77             2.28  \n2023-02-22 00:00:00+00:00       973570.0            -5.55             6.74  \n2023-02-16 00:00:00+00:00       737200.0            -2.81             8.21  \n2023-10-20 00:00:00+00:00       125397.1           -17.69            46.41  \n\n[72 rows x 104 columns]",
      "text/html": "<div>\n<style scoped>\n    .dataframe tbody tr th:only-of-type {\n        vertical-align: middle;\n    }\n\n    .dataframe tbody tr th {\n        vertical-align: top;\n    }\n\n    .dataframe thead th {\n        text-align: right;\n    }\n</style>\n<table border=\"1\" class=\"dataframe\">\n  <thead>\n    <tr style=\"text-align: right;\">\n      <th></th>\n      <th>open</th>\n      <th>volume</th>\n      <th>dividends</th>\n      <th>splits</th>\n      <th>eps_estimate</th>\n      <th>reported_eps</th>\n      <th>surprise_pct</th>\n      <th>Amortization</th>\n      <th>AmortizationOfIntangiblesIncomeStatement</th>\n      <th>AverageDilutionEarnings</th>\n      <th>...</th>\n      <th>close_ma_10</th>\n      <th>ema_12</th>\n      <th>ema_26</th>\n      <th>MACD</th>\n      <th>signal</th>\n      <th>hist</th>\n      <th>close_ma_20</th>\n      <th>volume_avg_10</th>\n      <th>drawdown_open_1</th>\n      <th>maxrunup_open_1</th>\n    </tr>\n    <tr>\n      <th>date</th>\n      <th></th>\n      <th></th>\n      <th></th>\n      <th></th>\n      <th></th>\n      <th></th>\n      <th></th>\n      <th></th>\n      <th></th>\n      <th></th>\n      <th></th>\n      <th></th>\n      <th></th>\n      <th></th>\n      <th></th>\n      <th></th>\n      <th></th>\n      <th></th>\n      <th></th>\n      <th></th>\n      <th></th>\n    </tr>\n  </thead>\n  <tbody>\n    <tr>\n      <th>2023-02-02 00:00:00+00:00</th>\n      <td>336.50</td>\n      <td>4437200</td>\n      <td>0.0</td>\n      <td>0.0</td>\n      <td>1.56</td>\n      <td>1.73</td>\n      <td>10.90</td>\n      <td>NaN</td>\n      <td>NaN</td>\n      <td>NaN</td>\n      <td>...</td>\n      <td>270.92</td>\n      <td>273.78</td>\n      <td>250.60</td>\n      <td>23.18</td>\n      <td>15.56</td>\n      <td>7.62</td>\n      <td>252.42</td>\n      <td>1456790.0</td>\n      <td>-1.16</td>\n      <td>9.62</td>\n    </tr>\n    <tr>\n      <th>2023-07-27 00:00:00+00:00</th>\n      <td>403.83</td>\n      <td>3474500</td>\n      <td>0.0</td>\n      <td>0.0</td>\n      <td>2.03</td>\n      <td>2.22</td>\n      <td>9.36</td>\n      <td>NaN</td>\n      <td>NaN</td>\n      <td>NaN</td>\n      <td>...</td>\n      <td>350.31</td>\n      <td>349.25</td>\n      <td>342.69</td>\n      <td>6.56</td>\n      <td>6.80</td>\n      <td>-0.24</td>\n      <td>347.97</td>\n      <td>1296910.0</td>\n      <td>-6.02</td>\n      <td>2.32</td>\n    </tr>\n    <tr>\n      <th>2023-04-18 00:00:00+00:00</th>\n      <td>59.60</td>\n      <td>1896630</td>\n      <td>0.0</td>\n      <td>0.0</td>\n      <td>-0.42</td>\n      <td>-0.23</td>\n      <td>44.84</td>\n      <td>NaN</td>\n      <td>NaN</td>\n      <td>NaN</td>\n      <td>...</td>\n      <td>51.70</td>\n      <td>61.56</td>\n      <td>102.98</td>\n      <td>-41.43</td>\n      <td>-45.89</td>\n      <td>4.46</td>\n      <td>78.03</td>\n      <td>253332.5</td>\n      <td>-29.53</td>\n      <td>111.41</td>\n    </tr>\n    <tr>\n      <th>2023-07-17 00:00:00+00:00</th>\n      <td>477.50</td>\n      <td>2641900</td>\n      <td>0.0</td>\n      <td>0.0</td>\n      <td>-3.41</td>\n      <td>-4.26</td>\n      <td>-24.92</td>\n      <td>NaN</td>\n      <td>NaN</td>\n      <td>NaN</td>\n      <td>...</td>\n      <td>390.40</td>\n      <td>397.08</td>\n      <td>393.73</td>\n      <td>3.35</td>\n      <td>-2.66</td>\n      <td>6.00</td>\n      <td>391.33</td>\n      <td>516280.0</td>\n      <td>-0.65</td>\n      <td>15.34</td>\n    </tr>\n    <tr>\n      <th>2023-09-13 00:00:00+00:00</th>\n      <td>32.25</td>\n      <td>3650888</td>\n      <td>0.0</td>\n      <td>0.0</td>\n      <td>-0.06</td>\n      <td>-0.05</td>\n      <td>16.67</td>\n      <td>NaN</td>\n      <td>NaN</td>\n      <td>NaN</td>\n      <td>...</td>\n      <td>16.00</td>\n      <td>16.84</td>\n      <td>11.69</td>\n      <td>5.15</td>\n      <td>2.69</td>\n      <td>2.46</td>\n      <td>10.22</td>\n      <td>3083578.0</td>\n      <td>-21.71</td>\n      <td>27.91</td>\n    </tr>\n    <tr>\n      <th>...</th>\n      <td>...</td>\n      <td>...</td>\n      <td>...</td>\n      <td>...</td>\n      <td>...</td>\n      <td>...</td>\n      <td>...</td>\n      <td>...</td>\n      <td>...</td>\n      <td>...</td>\n      <td>...</td>\n      <td>...</td>\n      <td>...</td>\n      <td>...</td>\n      <td>...</td>\n      <td>...</td>\n      <td>...</td>\n      <td>...</td>\n      <td>...</td>\n      <td>...</td>\n      <td>...</td>\n    </tr>\n    <tr>\n      <th>2023-05-08 00:00:00+00:00</th>\n      <td>30.56</td>\n      <td>19266000</td>\n      <td>0.0</td>\n      <td>0.0</td>\n      <td>2.04</td>\n      <td>2.30</td>\n      <td>12.90</td>\n      <td>NaN</td>\n      <td>NaN</td>\n      <td>NaN</td>\n      <td>...</td>\n      <td>32.02</td>\n      <td>30.94</td>\n      <td>34.31</td>\n      <td>-3.38</td>\n      <td>-2.63</td>\n      <td>-0.75</td>\n      <td>33.66</td>\n      <td>18514190.0</td>\n      <td>-17.51</td>\n      <td>32.62</td>\n    </tr>\n    <tr>\n      <th>2023-02-22 00:00:00+00:00</th>\n      <td>189.42</td>\n      <td>2779500</td>\n      <td>0.0</td>\n      <td>0.0</td>\n      <td>0.41</td>\n      <td>0.60</td>\n      <td>47.82</td>\n      <td>NaN</td>\n      <td>NaN</td>\n      <td>NaN</td>\n      <td>...</td>\n      <td>167.33</td>\n      <td>167.97</td>\n      <td>161.96</td>\n      <td>6.02</td>\n      <td>4.99</td>\n      <td>1.03</td>\n      <td>163.80</td>\n      <td>992200.0</td>\n      <td>-6.77</td>\n      <td>2.28</td>\n    </tr>\n    <tr>\n      <th>2023-02-22 00:00:00+00:00</th>\n      <td>91.81</td>\n      <td>4466800</td>\n      <td>0.0</td>\n      <td>0.0</td>\n      <td>0.09</td>\n      <td>0.61</td>\n      <td>546.67</td>\n      <td>NaN</td>\n      <td>NaN</td>\n      <td>NaN</td>\n      <td>...</td>\n      <td>86.73</td>\n      <td>87.05</td>\n      <td>86.26</td>\n      <td>0.80</td>\n      <td>1.29</td>\n      <td>-0.49</td>\n      <td>87.94</td>\n      <td>973570.0</td>\n      <td>-5.55</td>\n      <td>6.74</td>\n    </tr>\n    <tr>\n      <th>2023-02-16 00:00:00+00:00</th>\n      <td>312.58</td>\n      <td>1566600</td>\n      <td>0.0</td>\n      <td>0.0</td>\n      <td>1.38</td>\n      <td>1.77</td>\n      <td>28.61</td>\n      <td>NaN</td>\n      <td>NaN</td>\n      <td>NaN</td>\n      <td>...</td>\n      <td>276.54</td>\n      <td>278.60</td>\n      <td>268.15</td>\n      <td>10.45</td>\n      <td>7.83</td>\n      <td>2.62</td>\n      <td>271.37</td>\n      <td>737200.0</td>\n      <td>-2.81</td>\n      <td>8.21</td>\n    </tr>\n    <tr>\n      <th>2023-10-20 00:00:00+00:00</th>\n      <td>46.25</td>\n      <td>1133170</td>\n      <td>0.0</td>\n      <td>0.0</td>\n      <td>-1.34</td>\n      <td>-0.79</td>\n      <td>41.04</td>\n      <td>13692.0</td>\n      <td>13692.0</td>\n      <td>NaN</td>\n      <td>...</td>\n      <td>27.52</td>\n      <td>32.05</td>\n      <td>36.71</td>\n      <td>-4.65</td>\n      <td>-6.14</td>\n      <td>1.49</td>\n      <td>35.34</td>\n      <td>125397.1</td>\n      <td>-17.69</td>\n      <td>46.41</td>\n    </tr>\n  </tbody>\n</table>\n<p>72 rows × 104 columns</p>\n</div>"
     },
     "execution_count": 30,
     "metadata": {},
     "output_type": "execute_result"
    }
   ],
   "source": [
    "df_4gpt"
   ],
   "metadata": {
    "collapsed": false,
    "ExecuteTime": {
     "end_time": "2023-12-01T20:12:57.541003800Z",
     "start_time": "2023-12-01T20:12:57.480845100Z"
    }
   },
   "id": "6c44b8ed3187a000"
  },
  {
   "cell_type": "code",
   "execution_count": 20,
   "outputs": [
    {
     "data": {
      "text/plain": "<Axes: xlabel='maxrunup_open_1', ylabel='volume'>"
     },
     "execution_count": 20,
     "metadata": {},
     "output_type": "execute_result"
    },
    {
     "data": {
      "text/plain": "<Figure size 2000x1000 with 1 Axes>",
      "image/png": "[encoded data removed]"
     },
     "metadata": {},
     "output_type": "display_data"
    }
   ],
   "source": [
    "# Scatter plot maxrunup_open_1 and volume\n",
    "# Increase figure\n",
    "from matplotlib import pyplot as plt\n",
    "plt.rcParams['figure.figsize'] = [20, 10]\n",
    "df_4gpt.plot.scatter(x='maxrunup_open_1', y='volume')"
   ],
   "metadata": {
    "collapsed": false,
    "ExecuteTime": {
     "end_time": "2023-12-01T19:38:09.350019200Z",
     "start_time": "2023-12-01T19:38:09.160006100Z"
    }
   },
   "id": "cc98003ec97722be"
  },
  {
   "cell_type": "code",
   "execution_count": null,
   "outputs": [],
   "source": [],
   "metadata": {
    "collapsed": false
   },
   "id": "983af74fc1dc1aa3"
  },
  {
   "cell_type": "markdown",
   "source": [],
   "metadata": {
    "collapsed": false
   },
   "id": "61526109ef23caf2"
  },
  {
   "cell_type": "markdown",
   "source": [
    "# Kullamaggie approach"
   ],
   "metadata": {
    "collapsed": false
   },
   "id": "1e6f7ca8ef77b436"
  },
  {
   "cell_type": "code",
   "execution_count": null,
   "outputs": [],
   "source": [
    "print(f\"Size before: {len(df_)}\")\n",
    "df_ = df_.loc[(df_['gap'] > 10) & (df_['volume'] > 1000000)].copy()\n",
    "print(f\"Size after: {len(df_)}\")"
   ],
   "metadata": {
    "collapsed": false
   },
   "id": "59b29eca1cd2c081"
  },
  {
   "cell_type": "code",
   "execution_count": null,
   "outputs": [],
   "source": [
    "df_test = df_[df_['drawdown_open_1'] >-5][['symbol', 'open', 'volume', 'maxrunup_open_1', 'drawdown_open_1', 'gap', 'surprise_pct', 'numberOfFunds', 'numberOfFunds_prev', 'marketCapitalizationPrimary']].sort_values(['maxrunup_open_1'], ascending=False)\n",
    "print(f\"Sum of Run Up: {df_test['maxrunup_open_1'].sum()}\")\n",
    "print(f\"Sum of drawdown: {df_test['drawdown_open_1'].sum()}\")\n",
    "\n",
    "df_test"
   ],
   "metadata": {
    "collapsed": false
   },
   "id": "f65d00f791a80248"
  },
  {
   "cell_type": "code",
   "execution_count": null,
   "outputs": [],
   "source": [
    "df_big_winner = df_[(df_['maxrunup_open_1'] > 100) & (df_['volume'] > 1000000)]\n",
    "df_big_winner[['symbol', 'open', 'volume', 'maxrunup_open_1', 'drawdown_open_1', 'gap', 'surprise_pct', 'numberOfFunds', 'numberOfFunds_prev', 'marketCapitalizationPrimary']]"
   ],
   "metadata": {
    "collapsed": false
   },
   "id": "247ca4ce92fc8595"
  },
  {
   "cell_type": "code",
   "execution_count": null,
   "outputs": [],
   "source": [
    "# Scatter plot maxrunup_open_1 and drawdown_open_1\n",
    "# Increase figure\n",
    "from matplotlib import pyplot as plt\n",
    "plt.rcParams['figure.figsize'] = [20, 10]\n",
    "df_stats = df_[(df_['maxrunup_open_1'] > 10) & (df_['maxrunup_open_1'] < 200) & (df_['drawdown_low_1'] > -10)]\n",
    "print(len(df_stats))\n",
    "df_stats.plot.scatter(x='maxrunup_open_1', y='drawdown_low_1')"
   ],
   "metadata": {
    "collapsed": false
   },
   "id": "d08398769ac9728a"
  },
  {
   "cell_type": "code",
   "execution_count": null,
   "outputs": [],
   "source": [
    "len(df_)"
   ],
   "metadata": {
    "collapsed": false
   },
   "id": "eaaf3528ae8f94e0"
  },
  {
   "cell_type": "code",
   "execution_count": null,
   "outputs": [],
   "source": [
    "df_[df_['maxrunup_open_1'] == 199]"
   ],
   "metadata": {
    "collapsed": false
   },
   "id": "4074252942cf5751"
  },
  {
   "cell_type": "code",
   "execution_count": null,
   "outputs": [],
   "source": [
    "stoplosses = range(0,100)\n",
    "takeprofits = range(1, 200)\n",
    "gaps = range(0, 100)\n",
    "df_stats = df_.copy().reset_index()\n",
    "#df_stats = df_stats[(df_stats['gap'] < 200) & (df_stats['maxrunup_open_1'] < 500)]\n",
    "\n",
    "results = []\n",
    "for gap in tqdm(gaps):\n",
    "    df_stats = df_stats[df_stats['gap'] > gap]\n",
    "    for stoploss in stoplosses:\n",
    "        hit_stoploss = len(df_stats[(df_stats['drawdown_open_1'] <= -stoploss)]) * max(stoploss, 1)\n",
    "        remaining_loss = df_stats[(df_stats['drawdown_open_1'] > -stoploss)]['drawdown_open_1'].sum()\n",
    "        for takeprofit in takeprofits:\n",
    "            hit_takeprofit = len(df_stats[(df_stats['maxrunup_open_1'] >= takeprofit) & (df_stats['drawdown_open_1'] >= -stoploss)]) * takeprofit\n",
    "            remaining_profit = df_stats[(df_stats['maxrunup_open_1'] < takeprofit) & (df_stats['drawdown_open_1'] > -stoploss)]['maxrunup_open_1'].sum()\n",
    "            ratio = hit_takeprofit/hit_stoploss if hit_stoploss > 0 else 0\n",
    "            \n",
    "            results.append({\n",
    "                'takeprofit': takeprofit,\n",
    "                'stoploss': stoploss,\n",
    "                'hit_takeprofit': hit_takeprofit,\n",
    "                'hit_stoploss': hit_stoploss,\n",
    "                'ratio': ratio,\n",
    "                'gap': gap,\n",
    "                'remaining_loss': remaining_loss,\n",
    "                'remaining_profit': remaining_profit\n",
    "            })\n",
    "df_results = pd.DataFrame(results)\n",
    "df_results['profit'] = df_results['hit_takeprofit'] - df_results['hit_stoploss']\n",
    "df_results['remaining'] = df_results['remaining_profit'] + df_results['remaining_loss']\n",
    "df_results['total_profit'] = df_results['profit'] + df_results['remaining']\n",
    "df_results.sort_values(by='ratio', ascending=False) "
   ],
   "metadata": {
    "collapsed": false
   },
   "id": "d430639e1c7bd49d"
  },
  {
   "cell_type": "code",
   "execution_count": null,
   "outputs": [],
   "source": [],
   "metadata": {
    "collapsed": false
   },
   "id": "7282055e3aa05241"
  },
  {
   "cell_type": "code",
   "execution_count": null,
   "outputs": [],
   "source": [
    "df_results[(df_results['gap'] >= 10) & (df_results['stoploss'] < 5)].sort_values(by='ratio', ascending=False)"
   ],
   "metadata": {
    "collapsed": false
   },
   "id": "b2784c516fad7aea"
  },
  {
   "cell_type": "code",
   "execution_count": null,
   "outputs": [],
   "source": [
    "df_stats = df_.copy().reset_index()\n",
    "df_gapped = df_stats[(df_stats['gap'] >= 10)]#[['date', 'symbol', 'open', 'high', 'low', 'close', 'gap', 'maxrunup_open_1', 'drawdown_open_1', 'lowest_1', 'highest_1_index']]\n",
    "\n",
    "loser = df_gapped[(df_gapped['drawdown_open_1'] <= -1)][['date', 'symbol', 'open', 'high', 'low', 'close', 'gap', 'maxrunup_open_1', 'drawdown_open_1', 'lowest_1', 'highest_1_index']].sort_values(by='gap', ascending=False)\n",
    "winner = df_gapped[(df_gapped['drawdown_open_1'] > -1)][['date', 'symbol', 'open', 'high', 'low', 'close', 'gap', 'maxrunup_open_1', 'drawdown_open_1', 'lowest_1', 'highest_1_index']].sort_values(by='gap', ascending=False)"
   ],
   "metadata": {
    "collapsed": false
   },
   "id": "7f97b9a3afebe5a0"
  },
  {
   "cell_type": "code",
   "execution_count": null,
   "outputs": [],
   "source": [
    "df_gapped"
   ],
   "metadata": {
    "collapsed": false
   },
   "id": "17525b5d549522e9"
  },
  {
   "cell_type": "code",
   "execution_count": null,
   "outputs": [],
   "source": [
    "winner.describe()"
   ],
   "metadata": {
    "collapsed": false
   },
   "id": "21309ce781df2699"
  },
  {
   "cell_type": "code",
   "execution_count": null,
   "outputs": [],
   "source": [
    "loser.describe()"
   ],
   "metadata": {
    "collapsed": false
   },
   "id": "8875f8b2153df90e"
  },
  {
   "cell_type": "code",
   "execution_count": null,
   "outputs": [],
   "source": [
    "df_gapped.to_csv('gapped.csv')"
   ],
   "metadata": {
    "collapsed": false
   },
   "id": "d299fb86c6d4bdf"
  },
  {
   "cell_type": "code",
   "execution_count": null,
   "outputs": [],
   "source": [
    "df_stats = df_.copy().reset_index()\n",
    "#df_stats = df_stats[df_stats['gap'] < 200]\n",
    "df_stats['hit_takeprofit'] = (df_stats['maxrunup_open_1'] >= 144) & (df_stats['drawdown_open_1'] >= -1)\n",
    "df_stats[df_stats['gap'] > 93][['date', 'symbol', 'open', 'high', 'low', 'close', 'gap', 'maxrunup_open_1', 'drawdown_open_1', 'lowest_1', 'highest_1_index', 'hit_takeprofit']].sort_values(by='gap', ascending=False)"
   ],
   "metadata": {
    "collapsed": false
   },
   "id": "a907606cc0ebf845"
  },
  {
   "cell_type": "code",
   "execution_count": null,
   "outputs": [],
   "source": [
    "df_results[df_results['gap'] == 10].sort_values(by='ratio', ascending=False)"
   ],
   "metadata": {
    "collapsed": false
   },
   "id": "f366eccd1b1c8298"
  },
  {
   "cell_type": "markdown",
   "source": [
    "# GPT"
   ],
   "metadata": {
    "collapsed": false
   },
   "id": "8a860c98c050144b"
  },
  {
   "cell_type": "code",
   "execution_count": null,
   "outputs": [],
   "source": [
    "import numpy as np\n",
    "\n",
    "# Define ranges for take profit and stop loss levels (in %)\n",
    "take_profit_levels = np.arange(20, 100, 5)  # From 5% to 50% in increments of 5%\n",
    "stop_loss_levels = np.arange(-1, -10, -1)  # From -5% to -50% in increments of 5%\n",
    "\n",
    "# Create a dictionary to store results\n",
    "results = {}\n",
    "df_gpt = pd.read_csv('gapped.csv')\n",
    "# Iterate through each combination of take profit and stop loss levels\n",
    "for gap in tqdm(range(0, 100)):\n",
    "    for tp in take_profit_levels:\n",
    "        for sl in stop_loss_levels:\n",
    "            # Initialize counters for trades\n",
    "            successful_trades = 0\n",
    "            total_trades = 0\n",
    "            total_return = 0\n",
    "            df_tmp = df_gpt[df_gpt['gap'] >= gap]\n",
    "            # Simulate trades for each row in the dataset\n",
    "            for index, row in df_tmp.iterrows():\n",
    "                \n",
    "                max_run_up = row['maxrunup_open_1']\n",
    "                max_drawdown = row['drawdown_open_1']\n",
    "    \n",
    "                # Check if the take profit or stop loss would have been hit first\n",
    "                if max_run_up >= tp:\n",
    "                    # Take profit hit\n",
    "                    total_return += tp\n",
    "                    successful_trades += 1\n",
    "                elif max_drawdown <= sl:\n",
    "                    # Stop loss hit\n",
    "                    total_return += sl\n",
    "                \n",
    "                total_trades += 1\n",
    "    \n",
    "            # Calculate success rate and average return per trade\n",
    "            success_rate = successful_trades / total_trades if total_trades else 0\n",
    "            average_return = total_return / total_trades if total_trades else 0\n",
    "    \n",
    "            # Store results\n",
    "            results[(tp, sl, gap)] = {'success_rate': success_rate, 'average_return': average_return}\n",
    "\n",
    "# Sort results by highest average return\n",
    "sorted_results = sorted(results.items(), key=lambda x: x[1]['average_return'], reverse=True)\n",
    "\n",
    "# Display the top 5 combinations\n",
    "sorted_results[:5]\n"
   ],
   "metadata": {
    "collapsed": false
   },
   "id": "df1d9ab0d67f2a21"
  },
  {
   "cell_type": "code",
   "execution_count": null,
   "outputs": [],
   "source": [
    "# Convert sorted_results to an array\n",
    "arr = [(k[0], k[1], k[2], v['success_rate'], v['average_return']) for k, v in sorted_results]\n",
    "arr"
   ],
   "metadata": {
    "collapsed": false
   },
   "id": "df0b3be0bc70c780"
  },
  {
   "cell_type": "code",
   "execution_count": null,
   "outputs": [],
   "source": [
    "df_results_gpt = pd.DataFrame(arr, columns=['take_profit', 'stop_loss', 'gap', 'success_rate', 'average_return'])\n",
    "df_results_gpt"
   ],
   "metadata": {
    "collapsed": false
   },
   "id": "d40ff4cd7b74a490"
  },
  {
   "cell_type": "markdown",
   "source": [
    "# Correlation"
   ],
   "metadata": {
    "collapsed": false
   },
   "id": "ee603d56ae45c371"
  },
  {
   "cell_type": "code",
   "execution_count": null,
   "outputs": [],
   "source": [
    "df_stats = df_.copy().reset_index()\n",
    "df_stats = df_stats.drop(['symbol', 'date'], axis=1)\n",
    "\n",
    "# remove outliers\n",
    "df_stats = df_stats[(df_stats['gap'] < 100) & (df_stats['maxrunup_open_1'] < 500) & (df_stats['maxrunup_open_1'] >= 0)]\n",
    "df_stats = (df_stats - df_stats.min()) / (df_stats.max() - df_stats.min())"
   ],
   "metadata": {
    "collapsed": false
   },
   "id": "87561aed8dc79c9c"
  },
  {
   "cell_type": "code",
   "execution_count": null,
   "outputs": [],
   "source": [
    "# Future knowledge\n",
    "corr_drop_cols = ['maxrunup_open_1', 'maxrunup_close_1', 'win1', 'highest_1_index', 'drawdown_low_1', 'drawdown_open_1', 'lowest_1', 'high', 'low', 'close','highest_1']"
   ],
   "metadata": {
    "collapsed": false
   },
   "id": "93b478f9810b3c0c"
  },
  {
   "cell_type": "code",
   "execution_count": null,
   "outputs": [],
   "source": [
    "# Select numeric columns\n",
    "df_stats[df_stats.select_dtypes(include='number').columns].corr()['maxrunup_open_1'].drop(corr_drop_cols)"
   ],
   "metadata": {
    "collapsed": false
   },
   "id": "5b3b57767fb1f6c6"
  },
  {
   "cell_type": "code",
   "execution_count": null,
   "outputs": [],
   "source": [
    "# Select numeric columns\n",
    "df_stats[df_stats.select_dtypes(include='number').columns].corr(method='spearman')['maxrunup_open_1'].drop(corr_drop_cols)"
   ],
   "metadata": {
    "collapsed": false
   },
   "id": "c311b5e1788c4b4e"
  },
  {
   "cell_type": "code",
   "execution_count": null,
   "outputs": [],
   "source": [
    "# Select numeric columns\n",
    "df_stats[df_stats.select_dtypes(include='number').columns].corr(method='kendall')['maxrunup_open_1'].drop(corr_drop_cols)"
   ],
   "metadata": {
    "collapsed": false
   },
   "id": "83641efebd4212c6"
  },
  {
   "cell_type": "code",
   "execution_count": null,
   "outputs": [],
   "source": [],
   "metadata": {
    "collapsed": false
   },
   "id": "1c273f0435db9302"
  },
  {
   "cell_type": "markdown",
   "source": [
    "# Regression"
   ],
   "metadata": {
    "collapsed": false
   },
   "id": "c14c054d4adff7b1"
  },
  {
   "cell_type": "code",
   "execution_count": null,
   "outputs": [],
   "source": [
    "look_ahead_columns = ['maxrunup_close_1', 'win1', 'highest_1_index', 'drawdown_low_1', 'drawdown_open_1', 'lowest_1', 'high', 'low', 'close','highest_1']\n",
    "df_stats = df_stats.fillna(0).drop(look_ahead_columns, axis=1)\n",
    "X = df_stats[df_stats.drop(['maxrunup_open_1'], axis=1).columns]\n",
    "y = df_stats['maxrunup_open_1']  # Dependent variable\n",
    "X_train, X_test, y_train, y_test = train_test_split(X, y, test_size=0.3, random_state=42)"
   ],
   "metadata": {
    "collapsed": false
   },
   "id": "3179926e59076109"
  },
  {
   "cell_type": "markdown",
   "source": [
    "### Linear Regression"
   ],
   "metadata": {
    "collapsed": false
   },
   "id": "5b0d92bb6d1ebbc6"
  },
  {
   "cell_type": "code",
   "execution_count": null,
   "outputs": [],
   "source": [
    "model = LinearRegression()\n",
    "model.fit(X_train, y_train)\n",
    "\n",
    "# Step 5: Evaluate the Model\n",
    "# Predicting on the Test set\n",
    "y_pred = model.predict(X_test)\n",
    "\n",
    "# Calculating R-squared and RMSE\n",
    "r2 = r2_score(y_test, y_pred)\n",
    "rmse = mean_squared_error(y_test, y_pred, squared=False)\n",
    "\n",
    "print(f\"R-squared: {r2}\")\n",
    "print(f\"RMSE: {rmse}\")\n",
    "\n",
    "# To get the coefficients and intercept:\n",
    "print(f\"Coefficients: {model.coef_}\")\n",
    "print(f\"Intercept: {model.intercept_}\")"
   ],
   "metadata": {
    "collapsed": false
   },
   "id": "78e1740aebb38efc"
  },
  {
   "cell_type": "code",
   "execution_count": null,
   "outputs": [],
   "source": [
    "# Extracting coefficients\n",
    "coefficients = model.coef_\n",
    "\n",
    "# Matching coefficients with feature names\n",
    "feature_names = X_train.columns\n",
    "features_and_coeffs = zip(feature_names, coefficients)\n",
    "\n",
    "# Sorting features by absolute value of coefficient\n",
    "sorted_features = sorted(features_and_coeffs, key=lambda x: abs(x[1]), reverse=True)\n",
    "\n",
    "df_coeffs = pd.DataFrame(sorted_features, columns=['feature', 'coefficient'])\n",
    "df_coeffs"
   ],
   "metadata": {
    "collapsed": false
   },
   "id": "d4a8f8c9c6dc26a7"
  },
  {
   "cell_type": "markdown",
   "source": [
    "### Polynomial Regression"
   ],
   "metadata": {
    "collapsed": false
   },
   "id": "f4bd2080629b866e"
  },
  {
   "cell_type": "code",
   "execution_count": null,
   "outputs": [],
   "source": [
    "from sklearn.preprocessing import PolynomialFeatures\n",
    "from sklearn.linear_model import LinearRegression\n",
    "from sklearn.pipeline import make_pipeline\n",
    "\n",
    "df_stats = df_stats.fillna(0)\n",
    "X = df_stats[df_stats.drop(['maxrunup_open_1'], axis=1).columns]\n",
    "X = X[['gap', 'numberOfFunds', 'numberOfFunds_prev', 'volume', 'DepletionIncomeStatement', 'eps_estimate', 'open', 'reported_eps']]\n",
    "y = df_stats['maxrunup_open_1']  # Dependent variable\n",
    "\n",
    "X_train, X_test, y_train, y_test = train_test_split(X, y, test_size=0.3, random_state=42)\n",
    "degree = 2  # or higher\n",
    "polyreg = make_pipeline(PolynomialFeatures(degree), LinearRegression())\n",
    "polyreg.fit(X_train, y_train)\n",
    "y_pred = polyreg.predict(X_test)\n",
    "\n",
    "# Calculating R-squared and RMSE\n",
    "r2 = r2_score(y_test, y_pred)\n",
    "rmse = mean_squared_error(y_test, y_pred, squared=False)\n",
    "\n",
    "print(f\"R-squared: {r2}\")\n",
    "print(f\"RMSE: {rmse}\")\n",
    "\n",
    "# To get the coefficients and intercept:\n",
    "print(f\"Coefficients: {polyreg['linearregression'].coef_}\")\n",
    "print(f\"Intercept: {polyreg['linearregression'].intercept_}\")\n"
   ],
   "metadata": {
    "collapsed": false
   },
   "id": "c03ace5917f92fc6"
  },
  {
   "cell_type": "code",
   "execution_count": null,
   "outputs": [],
   "source": [],
   "metadata": {
    "collapsed": false
   },
   "id": "d356d28f98b51af0"
  },
  {
   "cell_type": "code",
   "execution_count": null,
   "outputs": [],
   "source": [],
   "metadata": {
    "collapsed": false
   },
   "id": "61fbfabd5da0d74f"
  },
  {
   "cell_type": "code",
   "execution_count": null,
   "outputs": [],
   "source": [],
   "metadata": {
    "collapsed": false
   },
   "id": "a1f85fdc9feac84c"
  },
  {
   "cell_type": "code",
   "execution_count": null,
   "outputs": [],
   "source": [],
   "metadata": {
    "collapsed": false
   },
   "id": "29b06fad3154c289"
  },
  {
   "cell_type": "code",
   "execution_count": null,
   "outputs": [],
   "source": [
    "df_stats.describe()"
   ],
   "metadata": {
    "collapsed": false
   },
   "id": "5a304351cfcf4729"
  },
  {
   "cell_type": "code",
   "execution_count": null,
   "outputs": [],
   "source": [
    "# Show rows with inf values\n",
    "numeric_df = df_stats.select_dtypes(include=[np.number])\n",
    "\n",
    "# Check for positive and negative infinity in numeric columns\n",
    "inf_rows = df_stats[np.isinf(numeric_df).any(axis=1)]\n",
    "inf_rows\n"
   ],
   "metadata": {
    "collapsed": false
   },
   "id": "735c5810352f74d6"
  },
  {
   "cell_type": "code",
   "execution_count": null,
   "outputs": [],
   "source": [
    "threshold = 1e+18  # This is an example threshold, adjust based on your context\n",
    "\n",
    "# Check for values larger than the threshold\n",
    "large_value_rows = df_stats[(df_stats.abs() > threshold).any(axis=1)]"
   ],
   "metadata": {
    "collapsed": false
   },
   "id": "b621ceb98901210a"
  },
  {
   "cell_type": "code",
   "execution_count": null,
   "outputs": [],
   "source": [
    "# Combine both conditions\n",
    "problematic_rows = df[np.isinf(df).any(axis=1) | (df.abs() > threshold).any(axis=1)]\n"
   ],
   "metadata": {
    "collapsed": false
   },
   "id": "1d4a1a2cf0dd61b2"
  },
  {
   "cell_type": "code",
   "execution_count": null,
   "outputs": [],
   "source": [],
   "metadata": {
    "collapsed": false
   },
   "id": "8a558b3ab6d44a41"
  },
  {
   "cell_type": "markdown",
   "source": [
    "# Remove rows without 6 months confirmation"
   ],
   "metadata": {
    "collapsed": false
   },
   "id": "dd7f65f679cdc041"
  },
  {
   "cell_type": "code",
   "execution_count": null,
   "outputs": [],
   "source": [
    "df_gap = df_gap.loc[df_gap['win1'].notnull()]\n",
    "df_gap"
   ],
   "metadata": {
    "collapsed": false
   },
   "id": "929eed54483fde0f"
  },
  {
   "cell_type": "markdown",
   "source": [
    "# Multi months positive"
   ],
   "metadata": {
    "collapsed": false
   },
   "id": "91f31a03069287a3"
  },
  {
   "cell_type": "code",
   "execution_count": null,
   "outputs": [],
   "source": [
    "print(f\"Size before: {len(df_volume)}\")\n",
    "df_multi_win = df_volume.loc[(df_volume['win1'] > 0) & (df_volume['win3'] > 0) & (df_volume['win6'] > 0)].copy()\n",
    "print(f\"Size after: {len(df_multi_win)}\")"
   ],
   "metadata": {
    "collapsed": false
   },
   "id": "783470378b4dba7a"
  },
  {
   "cell_type": "code",
   "execution_count": null,
   "outputs": [],
   "source": [
    "# Filter earnings where win6 is over 70 and drawdown_low is over -5\n",
    "df_multi_win.loc[(df_multi_win['win6'] > 70) & (df_multi_win['drawdown_low'] > -5)].sort_values(by='win6', ascending=False)[cols]"
   ],
   "metadata": {
    "collapsed": false
   },
   "id": "e0581cdce2ae4deb"
  },
  {
   "cell_type": "code",
   "execution_count": null,
   "outputs": [],
   "source": [
    "# Plot drawdown_low and drawdown_open and bin them\n",
    "df_volume['drawdown_open'].hist(bins=50)"
   ],
   "metadata": {
    "collapsed": false
   },
   "id": "fb8e91ccc7bfe329"
  },
  {
   "cell_type": "code",
   "execution_count": null,
   "outputs": [],
   "source": [
    "df_volume['drawdown_low'].hist(bins=100)"
   ],
   "metadata": {
    "collapsed": false
   },
   "id": "44b6be46d8dbcaf2"
  },
  {
   "cell_type": "markdown",
   "source": [
    "# 6 Month winners"
   ],
   "metadata": {
    "collapsed": false
   },
   "id": "9f6a214e58b350ca"
  },
  {
   "cell_type": "code",
   "execution_count": null,
   "outputs": [],
   "source": [
    "print(f\"Size before: {len(df_earnings)}\")\n",
    "df_winners = df_earnings.loc[df_earnings['win6'] > 100].copy()\n",
    "print(f\"Size after: {len(df_winners)}\")\n",
    "df_winners[cols]"
   ],
   "metadata": {
    "collapsed": false
   },
   "id": "b247a52ce17cb1d9"
  },
  {
   "cell_type": "code",
   "execution_count": null,
   "outputs": [],
   "source": [
    "# Set surprise_pct to float\n",
    "df_winners['surprise_pct'] = df_winners['surprise_pct'].astype(float)\n",
    "# Select rows where win1, win3, or win6 is over 1000\n",
    "df_winners.loc[(df_winners['win1'] > 100) | (df_winners['win3'] > 100) | (df_winners['win6'] > 100)][cols].round(2)"
   ],
   "metadata": {
    "collapsed": false
   },
   "id": "718f60a78be979f6"
  },
  {
   "cell_type": "code",
   "execution_count": null,
   "outputs": [],
   "source": [],
   "metadata": {
    "collapsed": false
   },
   "id": "4937855596b86c2a"
  }
 ],
 "metadata": {
  "kernelspec": {
   "display_name": "Python 3",
   "language": "python",
   "name": "python3"
  },
  "language_info": {
   "codemirror_mode": {
    "name": "ipython",
    "version": 2
   },
   "file_extension": ".py",
   "mimetype": "text/x-python",
   "name": "python",
   "nbconvert_exporter": "python",
   "pygments_lexer": "ipython2",
   "version": "2.7.6"
  }
 },
 "nbformat": 4,
 "nbformat_minor": 5
}
